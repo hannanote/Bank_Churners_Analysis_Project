{
 "cells": [
  {
   "cell_type": "markdown",
   "metadata": {},
   "source": [
    "# Machine Learning Project\n",
    "### Spring 2023\n",
    "### Group Members: Hanna Choi & Anna-Lisa Vu"
   ]
  },
  {
   "cell_type": "markdown",
   "metadata": {},
   "source": [
    "## Bank Churners Analysis\n",
    "### Problem Statement\n",
    "\n",
    "We decided to do a ML project which predicts whether a customer will leave their bank credit card service.  Some (but not all) the variables used for prediction is:\n",
    "* Age\n",
    "* Salary\n",
    "* Marital_Status\n",
    "* Credit Card Limit\n",
    "* Credit Card Category\n",
    "\n",
    "Additional details on the problem statement (as copied from Kaggle):\n",
    "\"A manager at the bank is disturbed with more and more customers leaving their credit card services. They would really appreciate if one could predict for them who is gonna get churned so they can proactively go to the customer to provide them better services and turn customers' decisions in the opposite direction.\"  This dataset was gathered from Kaggle and can be access through this link: https://www.kaggle.com/datasets/sakshigoyal7/credit-card-customers.\n"
   ]
  },
  {
   "cell_type": "code",
   "execution_count": 1,
   "metadata": {},
   "outputs": [],
   "source": [
    "import pandas as pd\n",
    "import seaborn as sns\n",
    "import matplotlib.pyplot as plt\n",
    "from sklearn.model_selection import train_test_split\n",
    "from sklearn.model_selection import GridSearchCV\n",
    "from sklearn.preprocessing import LabelBinarizer\n",
    "from sklearn import preprocessing\n",
    "from sklearn.metrics import classification_report, confusion_matrix\n",
    "from sklearn.metrics import precision_score, recall_score, f1_score, accuracy_score"
   ]
  },
  {
   "cell_type": "code",
   "execution_count": 2,
   "metadata": {},
   "outputs": [],
   "source": [
    "RANDOM_STATE = 516"
   ]
  },
  {
   "cell_type": "markdown",
   "metadata": {},
   "source": [
    "### Import the data and Create Dataframes"
   ]
  },
  {
   "cell_type": "code",
   "execution_count": 3,
   "metadata": {},
   "outputs": [
    {
     "data": {
      "text/html": [
       "<div>\n",
       "<style scoped>\n",
       "    .dataframe tbody tr th:only-of-type {\n",
       "        vertical-align: middle;\n",
       "    }\n",
       "\n",
       "    .dataframe tbody tr th {\n",
       "        vertical-align: top;\n",
       "    }\n",
       "\n",
       "    .dataframe thead th {\n",
       "        text-align: right;\n",
       "    }\n",
       "</style>\n",
       "<table border=\"1\" class=\"dataframe\">\n",
       "  <thead>\n",
       "    <tr style=\"text-align: right;\">\n",
       "      <th></th>\n",
       "      <th>CLIENTNUM</th>\n",
       "      <th>Attrition_Flag</th>\n",
       "      <th>Customer_Age</th>\n",
       "      <th>Gender</th>\n",
       "      <th>Dependent_count</th>\n",
       "      <th>Education_Level</th>\n",
       "      <th>Marital_Status</th>\n",
       "      <th>Income_Category</th>\n",
       "      <th>Card_Category</th>\n",
       "      <th>Months_on_book</th>\n",
       "      <th>...</th>\n",
       "      <th>Months_Inactive_12_mon</th>\n",
       "      <th>Contacts_Count_12_mon</th>\n",
       "      <th>Credit_Limit</th>\n",
       "      <th>Total_Revolving_Bal</th>\n",
       "      <th>Avg_Open_To_Buy</th>\n",
       "      <th>Total_Amt_Chng_Q4_Q1</th>\n",
       "      <th>Total_Trans_Amt</th>\n",
       "      <th>Total_Trans_Ct</th>\n",
       "      <th>Total_Ct_Chng_Q4_Q1</th>\n",
       "      <th>Avg_Utilization_Ratio</th>\n",
       "    </tr>\n",
       "  </thead>\n",
       "  <tbody>\n",
       "    <tr>\n",
       "      <th>0</th>\n",
       "      <td>768805383</td>\n",
       "      <td>Existing Customer</td>\n",
       "      <td>45</td>\n",
       "      <td>M</td>\n",
       "      <td>3</td>\n",
       "      <td>High School</td>\n",
       "      <td>Married</td>\n",
       "      <td>$60K - $80K</td>\n",
       "      <td>Blue</td>\n",
       "      <td>39</td>\n",
       "      <td>...</td>\n",
       "      <td>1</td>\n",
       "      <td>3</td>\n",
       "      <td>12691.0</td>\n",
       "      <td>777</td>\n",
       "      <td>11914.0</td>\n",
       "      <td>1.335</td>\n",
       "      <td>1144</td>\n",
       "      <td>42</td>\n",
       "      <td>1.625</td>\n",
       "      <td>0.061</td>\n",
       "    </tr>\n",
       "    <tr>\n",
       "      <th>1</th>\n",
       "      <td>818770008</td>\n",
       "      <td>Existing Customer</td>\n",
       "      <td>49</td>\n",
       "      <td>F</td>\n",
       "      <td>5</td>\n",
       "      <td>Graduate</td>\n",
       "      <td>Single</td>\n",
       "      <td>Less than $40K</td>\n",
       "      <td>Blue</td>\n",
       "      <td>44</td>\n",
       "      <td>...</td>\n",
       "      <td>1</td>\n",
       "      <td>2</td>\n",
       "      <td>8256.0</td>\n",
       "      <td>864</td>\n",
       "      <td>7392.0</td>\n",
       "      <td>1.541</td>\n",
       "      <td>1291</td>\n",
       "      <td>33</td>\n",
       "      <td>3.714</td>\n",
       "      <td>0.105</td>\n",
       "    </tr>\n",
       "    <tr>\n",
       "      <th>2</th>\n",
       "      <td>713982108</td>\n",
       "      <td>Existing Customer</td>\n",
       "      <td>51</td>\n",
       "      <td>M</td>\n",
       "      <td>3</td>\n",
       "      <td>Graduate</td>\n",
       "      <td>Married</td>\n",
       "      <td>$80K - $120K</td>\n",
       "      <td>Blue</td>\n",
       "      <td>36</td>\n",
       "      <td>...</td>\n",
       "      <td>1</td>\n",
       "      <td>0</td>\n",
       "      <td>3418.0</td>\n",
       "      <td>0</td>\n",
       "      <td>3418.0</td>\n",
       "      <td>2.594</td>\n",
       "      <td>1887</td>\n",
       "      <td>20</td>\n",
       "      <td>2.333</td>\n",
       "      <td>0.000</td>\n",
       "    </tr>\n",
       "    <tr>\n",
       "      <th>3</th>\n",
       "      <td>769911858</td>\n",
       "      <td>Existing Customer</td>\n",
       "      <td>40</td>\n",
       "      <td>F</td>\n",
       "      <td>4</td>\n",
       "      <td>High School</td>\n",
       "      <td>Unknown</td>\n",
       "      <td>Less than $40K</td>\n",
       "      <td>Blue</td>\n",
       "      <td>34</td>\n",
       "      <td>...</td>\n",
       "      <td>4</td>\n",
       "      <td>1</td>\n",
       "      <td>3313.0</td>\n",
       "      <td>2517</td>\n",
       "      <td>796.0</td>\n",
       "      <td>1.405</td>\n",
       "      <td>1171</td>\n",
       "      <td>20</td>\n",
       "      <td>2.333</td>\n",
       "      <td>0.760</td>\n",
       "    </tr>\n",
       "    <tr>\n",
       "      <th>4</th>\n",
       "      <td>709106358</td>\n",
       "      <td>Existing Customer</td>\n",
       "      <td>40</td>\n",
       "      <td>M</td>\n",
       "      <td>3</td>\n",
       "      <td>Uneducated</td>\n",
       "      <td>Married</td>\n",
       "      <td>$60K - $80K</td>\n",
       "      <td>Blue</td>\n",
       "      <td>21</td>\n",
       "      <td>...</td>\n",
       "      <td>1</td>\n",
       "      <td>0</td>\n",
       "      <td>4716.0</td>\n",
       "      <td>0</td>\n",
       "      <td>4716.0</td>\n",
       "      <td>2.175</td>\n",
       "      <td>816</td>\n",
       "      <td>28</td>\n",
       "      <td>2.500</td>\n",
       "      <td>0.000</td>\n",
       "    </tr>\n",
       "  </tbody>\n",
       "</table>\n",
       "<p>5 rows × 21 columns</p>\n",
       "</div>"
      ],
      "text/plain": [
       "   CLIENTNUM     Attrition_Flag  Customer_Age Gender  Dependent_count   \n",
       "0  768805383  Existing Customer            45      M                3  \\\n",
       "1  818770008  Existing Customer            49      F                5   \n",
       "2  713982108  Existing Customer            51      M                3   \n",
       "3  769911858  Existing Customer            40      F                4   \n",
       "4  709106358  Existing Customer            40      M                3   \n",
       "\n",
       "  Education_Level Marital_Status Income_Category Card_Category   \n",
       "0     High School        Married     $60K - $80K          Blue  \\\n",
       "1        Graduate         Single  Less than $40K          Blue   \n",
       "2        Graduate        Married    $80K - $120K          Blue   \n",
       "3     High School        Unknown  Less than $40K          Blue   \n",
       "4      Uneducated        Married     $60K - $80K          Blue   \n",
       "\n",
       "   Months_on_book  ...  Months_Inactive_12_mon  Contacts_Count_12_mon   \n",
       "0              39  ...                       1                      3  \\\n",
       "1              44  ...                       1                      2   \n",
       "2              36  ...                       1                      0   \n",
       "3              34  ...                       4                      1   \n",
       "4              21  ...                       1                      0   \n",
       "\n",
       "   Credit_Limit  Total_Revolving_Bal  Avg_Open_To_Buy  Total_Amt_Chng_Q4_Q1   \n",
       "0       12691.0                  777          11914.0                 1.335  \\\n",
       "1        8256.0                  864           7392.0                 1.541   \n",
       "2        3418.0                    0           3418.0                 2.594   \n",
       "3        3313.0                 2517            796.0                 1.405   \n",
       "4        4716.0                    0           4716.0                 2.175   \n",
       "\n",
       "   Total_Trans_Amt  Total_Trans_Ct  Total_Ct_Chng_Q4_Q1  Avg_Utilization_Ratio  \n",
       "0             1144              42                1.625                  0.061  \n",
       "1             1291              33                3.714                  0.105  \n",
       "2             1887              20                2.333                  0.000  \n",
       "3             1171              20                2.333                  0.760  \n",
       "4              816              28                2.500                  0.000  \n",
       "\n",
       "[5 rows x 21 columns]"
      ]
     },
     "execution_count": 3,
     "metadata": {},
     "output_type": "execute_result"
    }
   ],
   "source": [
    "#df = pd.read_csv('/Users/lisasaurus01/git/dsc540_ml_project/BankChurners.csv')\n",
    "df = pd.read_csv('BankChurners.csv')\n",
    "attrited_customers = df[df['Attrition_Flag'] == 'Attrited Customer']\n",
    "existing_customers = df[df['Attrition_Flag'] == 'Existing Customer']\n",
    "\n",
    "#drop un-needed columns\n",
    "df.drop('Naive_Bayes_Classifier_Attrition_Flag_Card_Category_Contacts_Count_12_mon_Dependent_count_Education_Level_Months_Inactive_12_mon_1', axis=1, inplace=True)\n",
    "df.drop('Naive_Bayes_Classifier_Attrition_Flag_Card_Category_Contacts_Count_12_mon_Dependent_count_Education_Level_Months_Inactive_12_mon_2', axis=1, inplace=True)\n",
    "\n",
    "df.head()"
   ]
  },
  {
   "cell_type": "markdown",
   "metadata": {},
   "source": [
    "## Data Exploration\n"
   ]
  },
  {
   "cell_type": "code",
   "execution_count": 4,
   "metadata": {},
   "outputs": [
    {
     "name": "stdout",
     "output_type": "stream",
     "text": [
      "The data set consists of 10127 rows and 21 columns (features).\n"
     ]
    }
   ],
   "source": [
    "print(\"The data set consists of \"+str(df.shape[0])+\" rows and \"+str(df.shape[1])+\" columns (features).\")"
   ]
  },
  {
   "cell_type": "code",
   "execution_count": 5,
   "metadata": {},
   "outputs": [
    {
     "name": "stdout",
     "output_type": "stream",
     "text": [
      "The data types of all columns is below.\n"
     ]
    },
    {
     "data": {
      "text/plain": [
       "CLIENTNUM                     int64\n",
       "Attrition_Flag               object\n",
       "Customer_Age                  int64\n",
       "Gender                       object\n",
       "Dependent_count               int64\n",
       "Education_Level              object\n",
       "Marital_Status               object\n",
       "Income_Category              object\n",
       "Card_Category                object\n",
       "Months_on_book                int64\n",
       "Total_Relationship_Count      int64\n",
       "Months_Inactive_12_mon        int64\n",
       "Contacts_Count_12_mon         int64\n",
       "Credit_Limit                float64\n",
       "Total_Revolving_Bal           int64\n",
       "Avg_Open_To_Buy             float64\n",
       "Total_Amt_Chng_Q4_Q1        float64\n",
       "Total_Trans_Amt               int64\n",
       "Total_Trans_Ct                int64\n",
       "Total_Ct_Chng_Q4_Q1         float64\n",
       "Avg_Utilization_Ratio       float64\n",
       "dtype: object"
      ]
     },
     "execution_count": 5,
     "metadata": {},
     "output_type": "execute_result"
    }
   ],
   "source": [
    "print(\"The data types of all columns is below.\")\n",
    "df.dtypes"
   ]
  },
  {
   "cell_type": "markdown",
   "metadata": {},
   "source": [
    "There are only 6 categorical variables (including the target variable) which include -\n",
    "* Gender\n",
    "* Education_Level\n",
    "* Marital_Status\n",
    "* Income_Category\n",
    "* Card_Category\n",
    "* Attrition_Flag\n",
    "\n",
    "The rest is all continuous (either int or floats).\n"
   ]
  },
  {
   "cell_type": "code",
   "execution_count": 6,
   "metadata": {},
   "outputs": [
    {
     "name": "stdout",
     "output_type": "stream",
     "text": [
      "The general stats of all continuous features is below.\n"
     ]
    },
    {
     "data": {
      "text/html": [
       "<div>\n",
       "<style scoped>\n",
       "    .dataframe tbody tr th:only-of-type {\n",
       "        vertical-align: middle;\n",
       "    }\n",
       "\n",
       "    .dataframe tbody tr th {\n",
       "        vertical-align: top;\n",
       "    }\n",
       "\n",
       "    .dataframe thead th {\n",
       "        text-align: right;\n",
       "    }\n",
       "</style>\n",
       "<table border=\"1\" class=\"dataframe\">\n",
       "  <thead>\n",
       "    <tr style=\"text-align: right;\">\n",
       "      <th></th>\n",
       "      <th>CLIENTNUM</th>\n",
       "      <th>Customer_Age</th>\n",
       "      <th>Dependent_count</th>\n",
       "      <th>Months_on_book</th>\n",
       "      <th>Total_Relationship_Count</th>\n",
       "      <th>Months_Inactive_12_mon</th>\n",
       "      <th>Contacts_Count_12_mon</th>\n",
       "      <th>Credit_Limit</th>\n",
       "      <th>Total_Revolving_Bal</th>\n",
       "      <th>Avg_Open_To_Buy</th>\n",
       "      <th>Total_Amt_Chng_Q4_Q1</th>\n",
       "      <th>Total_Trans_Amt</th>\n",
       "      <th>Total_Trans_Ct</th>\n",
       "      <th>Total_Ct_Chng_Q4_Q1</th>\n",
       "      <th>Avg_Utilization_Ratio</th>\n",
       "    </tr>\n",
       "  </thead>\n",
       "  <tbody>\n",
       "    <tr>\n",
       "      <th>count</th>\n",
       "      <td>1.012700e+04</td>\n",
       "      <td>10127.000000</td>\n",
       "      <td>10127.000000</td>\n",
       "      <td>10127.000000</td>\n",
       "      <td>10127.000000</td>\n",
       "      <td>10127.000000</td>\n",
       "      <td>10127.000000</td>\n",
       "      <td>10127.000000</td>\n",
       "      <td>10127.000000</td>\n",
       "      <td>10127.000000</td>\n",
       "      <td>10127.000000</td>\n",
       "      <td>10127.000000</td>\n",
       "      <td>10127.000000</td>\n",
       "      <td>10127.000000</td>\n",
       "      <td>10127.000000</td>\n",
       "    </tr>\n",
       "    <tr>\n",
       "      <th>mean</th>\n",
       "      <td>7.391776e+08</td>\n",
       "      <td>46.325960</td>\n",
       "      <td>2.346203</td>\n",
       "      <td>35.928409</td>\n",
       "      <td>3.812580</td>\n",
       "      <td>2.341167</td>\n",
       "      <td>2.455317</td>\n",
       "      <td>8631.953698</td>\n",
       "      <td>1162.814061</td>\n",
       "      <td>7469.139637</td>\n",
       "      <td>0.759941</td>\n",
       "      <td>4404.086304</td>\n",
       "      <td>64.858695</td>\n",
       "      <td>0.712222</td>\n",
       "      <td>0.274894</td>\n",
       "    </tr>\n",
       "    <tr>\n",
       "      <th>std</th>\n",
       "      <td>3.690378e+07</td>\n",
       "      <td>8.016814</td>\n",
       "      <td>1.298908</td>\n",
       "      <td>7.986416</td>\n",
       "      <td>1.554408</td>\n",
       "      <td>1.010622</td>\n",
       "      <td>1.106225</td>\n",
       "      <td>9088.776650</td>\n",
       "      <td>814.987335</td>\n",
       "      <td>9090.685324</td>\n",
       "      <td>0.219207</td>\n",
       "      <td>3397.129254</td>\n",
       "      <td>23.472570</td>\n",
       "      <td>0.238086</td>\n",
       "      <td>0.275691</td>\n",
       "    </tr>\n",
       "    <tr>\n",
       "      <th>min</th>\n",
       "      <td>7.080821e+08</td>\n",
       "      <td>26.000000</td>\n",
       "      <td>0.000000</td>\n",
       "      <td>13.000000</td>\n",
       "      <td>1.000000</td>\n",
       "      <td>0.000000</td>\n",
       "      <td>0.000000</td>\n",
       "      <td>1438.300000</td>\n",
       "      <td>0.000000</td>\n",
       "      <td>3.000000</td>\n",
       "      <td>0.000000</td>\n",
       "      <td>510.000000</td>\n",
       "      <td>10.000000</td>\n",
       "      <td>0.000000</td>\n",
       "      <td>0.000000</td>\n",
       "    </tr>\n",
       "    <tr>\n",
       "      <th>25%</th>\n",
       "      <td>7.130368e+08</td>\n",
       "      <td>41.000000</td>\n",
       "      <td>1.000000</td>\n",
       "      <td>31.000000</td>\n",
       "      <td>3.000000</td>\n",
       "      <td>2.000000</td>\n",
       "      <td>2.000000</td>\n",
       "      <td>2555.000000</td>\n",
       "      <td>359.000000</td>\n",
       "      <td>1324.500000</td>\n",
       "      <td>0.631000</td>\n",
       "      <td>2155.500000</td>\n",
       "      <td>45.000000</td>\n",
       "      <td>0.582000</td>\n",
       "      <td>0.023000</td>\n",
       "    </tr>\n",
       "    <tr>\n",
       "      <th>50%</th>\n",
       "      <td>7.179264e+08</td>\n",
       "      <td>46.000000</td>\n",
       "      <td>2.000000</td>\n",
       "      <td>36.000000</td>\n",
       "      <td>4.000000</td>\n",
       "      <td>2.000000</td>\n",
       "      <td>2.000000</td>\n",
       "      <td>4549.000000</td>\n",
       "      <td>1276.000000</td>\n",
       "      <td>3474.000000</td>\n",
       "      <td>0.736000</td>\n",
       "      <td>3899.000000</td>\n",
       "      <td>67.000000</td>\n",
       "      <td>0.702000</td>\n",
       "      <td>0.176000</td>\n",
       "    </tr>\n",
       "    <tr>\n",
       "      <th>75%</th>\n",
       "      <td>7.731435e+08</td>\n",
       "      <td>52.000000</td>\n",
       "      <td>3.000000</td>\n",
       "      <td>40.000000</td>\n",
       "      <td>5.000000</td>\n",
       "      <td>3.000000</td>\n",
       "      <td>3.000000</td>\n",
       "      <td>11067.500000</td>\n",
       "      <td>1784.000000</td>\n",
       "      <td>9859.000000</td>\n",
       "      <td>0.859000</td>\n",
       "      <td>4741.000000</td>\n",
       "      <td>81.000000</td>\n",
       "      <td>0.818000</td>\n",
       "      <td>0.503000</td>\n",
       "    </tr>\n",
       "    <tr>\n",
       "      <th>max</th>\n",
       "      <td>8.283431e+08</td>\n",
       "      <td>73.000000</td>\n",
       "      <td>5.000000</td>\n",
       "      <td>56.000000</td>\n",
       "      <td>6.000000</td>\n",
       "      <td>6.000000</td>\n",
       "      <td>6.000000</td>\n",
       "      <td>34516.000000</td>\n",
       "      <td>2517.000000</td>\n",
       "      <td>34516.000000</td>\n",
       "      <td>3.397000</td>\n",
       "      <td>18484.000000</td>\n",
       "      <td>139.000000</td>\n",
       "      <td>3.714000</td>\n",
       "      <td>0.999000</td>\n",
       "    </tr>\n",
       "  </tbody>\n",
       "</table>\n",
       "</div>"
      ],
      "text/plain": [
       "          CLIENTNUM  Customer_Age  Dependent_count  Months_on_book   \n",
       "count  1.012700e+04  10127.000000     10127.000000    10127.000000  \\\n",
       "mean   7.391776e+08     46.325960         2.346203       35.928409   \n",
       "std    3.690378e+07      8.016814         1.298908        7.986416   \n",
       "min    7.080821e+08     26.000000         0.000000       13.000000   \n",
       "25%    7.130368e+08     41.000000         1.000000       31.000000   \n",
       "50%    7.179264e+08     46.000000         2.000000       36.000000   \n",
       "75%    7.731435e+08     52.000000         3.000000       40.000000   \n",
       "max    8.283431e+08     73.000000         5.000000       56.000000   \n",
       "\n",
       "       Total_Relationship_Count  Months_Inactive_12_mon   \n",
       "count              10127.000000            10127.000000  \\\n",
       "mean                   3.812580                2.341167   \n",
       "std                    1.554408                1.010622   \n",
       "min                    1.000000                0.000000   \n",
       "25%                    3.000000                2.000000   \n",
       "50%                    4.000000                2.000000   \n",
       "75%                    5.000000                3.000000   \n",
       "max                    6.000000                6.000000   \n",
       "\n",
       "       Contacts_Count_12_mon  Credit_Limit  Total_Revolving_Bal   \n",
       "count           10127.000000  10127.000000         10127.000000  \\\n",
       "mean                2.455317   8631.953698          1162.814061   \n",
       "std                 1.106225   9088.776650           814.987335   \n",
       "min                 0.000000   1438.300000             0.000000   \n",
       "25%                 2.000000   2555.000000           359.000000   \n",
       "50%                 2.000000   4549.000000          1276.000000   \n",
       "75%                 3.000000  11067.500000          1784.000000   \n",
       "max                 6.000000  34516.000000          2517.000000   \n",
       "\n",
       "       Avg_Open_To_Buy  Total_Amt_Chng_Q4_Q1  Total_Trans_Amt  Total_Trans_Ct   \n",
       "count     10127.000000          10127.000000     10127.000000    10127.000000  \\\n",
       "mean       7469.139637              0.759941      4404.086304       64.858695   \n",
       "std        9090.685324              0.219207      3397.129254       23.472570   \n",
       "min           3.000000              0.000000       510.000000       10.000000   \n",
       "25%        1324.500000              0.631000      2155.500000       45.000000   \n",
       "50%        3474.000000              0.736000      3899.000000       67.000000   \n",
       "75%        9859.000000              0.859000      4741.000000       81.000000   \n",
       "max       34516.000000              3.397000     18484.000000      139.000000   \n",
       "\n",
       "       Total_Ct_Chng_Q4_Q1  Avg_Utilization_Ratio  \n",
       "count         10127.000000           10127.000000  \n",
       "mean              0.712222               0.274894  \n",
       "std               0.238086               0.275691  \n",
       "min               0.000000               0.000000  \n",
       "25%               0.582000               0.023000  \n",
       "50%               0.702000               0.176000  \n",
       "75%               0.818000               0.503000  \n",
       "max               3.714000               0.999000  "
      ]
     },
     "execution_count": 6,
     "metadata": {},
     "output_type": "execute_result"
    }
   ],
   "source": [
    "print(\"The general stats of all continuous features is below.\")\n",
    "df.describe()"
   ]
  },
  {
   "cell_type": "code",
   "execution_count": 7,
   "metadata": {},
   "outputs": [
    {
     "name": "stdout",
     "output_type": "stream",
     "text": [
      "The breakdown of gender in the data set is below:\n"
     ]
    },
    {
     "data": {
      "text/plain": [
       "Gender\n",
       "F    5358\n",
       "M    4769\n",
       "Name: count, dtype: int64"
      ]
     },
     "execution_count": 7,
     "metadata": {},
     "output_type": "execute_result"
    }
   ],
   "source": [
    "print(\"The breakdown of gender in the data set is below:\")\n",
    "df['Gender'].value_counts()"
   ]
  },
  {
   "cell_type": "markdown",
   "metadata": {},
   "source": [
    "There are more females than males."
   ]
  },
  {
   "cell_type": "code",
   "execution_count": 8,
   "metadata": {},
   "outputs": [
    {
     "name": "stdout",
     "output_type": "stream",
     "text": [
      "The breakdown of education in the data set is below:\n"
     ]
    },
    {
     "data": {
      "text/plain": [
       "Education_Level\n",
       "Graduate         3128\n",
       "High School      2013\n",
       "Unknown          1519\n",
       "Uneducated       1487\n",
       "College          1013\n",
       "Post-Graduate     516\n",
       "Doctorate         451\n",
       "Name: count, dtype: int64"
      ]
     },
     "execution_count": 8,
     "metadata": {},
     "output_type": "execute_result"
    }
   ],
   "source": [
    "print(\"The breakdown of education in the data set is below:\")\n",
    "df['Education_Level'].value_counts()"
   ]
  },
  {
   "cell_type": "markdown",
   "metadata": {},
   "source": [
    "Graduate level seems the highest level achieved.  We are assuming that \"graduate\" means education after college.  There is a noticeable amount of Unknown and Uneducated people in the data set as well."
   ]
  },
  {
   "cell_type": "code",
   "execution_count": 9,
   "metadata": {},
   "outputs": [
    {
     "name": "stdout",
     "output_type": "stream",
     "text": [
      "The breakdown of marital status in the data set is below:\n"
     ]
    },
    {
     "data": {
      "text/plain": [
       "Marital_Status\n",
       "Married     4687\n",
       "Single      3943\n",
       "Unknown      749\n",
       "Divorced     748\n",
       "Name: count, dtype: int64"
      ]
     },
     "execution_count": 9,
     "metadata": {},
     "output_type": "execute_result"
    }
   ],
   "source": [
    "print(\"The breakdown of marital status in the data set is below:\")\n",
    "df['Marital_Status'].value_counts()"
   ]
  },
  {
   "cell_type": "code",
   "execution_count": 10,
   "metadata": {},
   "outputs": [
    {
     "name": "stdout",
     "output_type": "stream",
     "text": [
      "The breakdown of income category in the data set is below:\n"
     ]
    },
    {
     "data": {
      "text/plain": [
       "Income_Category\n",
       "Less than $40K    3561\n",
       "$40K - $60K       1790\n",
       "$80K - $120K      1535\n",
       "$60K - $80K       1402\n",
       "Unknown           1112\n",
       "$120K +            727\n",
       "Name: count, dtype: int64"
      ]
     },
     "execution_count": 10,
     "metadata": {},
     "output_type": "execute_result"
    }
   ],
   "source": [
    "print(\"The breakdown of income category in the data set is below:\")\n",
    "df['Income_Category'].value_counts()"
   ]
  },
  {
   "cell_type": "code",
   "execution_count": 11,
   "metadata": {},
   "outputs": [
    {
     "name": "stdout",
     "output_type": "stream",
     "text": [
      "The breakdown of card category in the data set is below:\n"
     ]
    },
    {
     "data": {
      "text/plain": [
       "Card_Category\n",
       "Blue        9436\n",
       "Silver       555\n",
       "Gold         116\n",
       "Platinum      20\n",
       "Name: count, dtype: int64"
      ]
     },
     "execution_count": 11,
     "metadata": {},
     "output_type": "execute_result"
    }
   ],
   "source": [
    "print(\"The breakdown of card category in the data set is below:\")\n",
    "df['Card_Category'].value_counts()"
   ]
  },
  {
   "cell_type": "markdown",
   "metadata": {},
   "source": [
    "### Target Variable - Attrition Flag\n",
    "The target variable is \"Attrition Flag\".  A \"churned\" customer is considered as someone who is an \"Attritted Customer\".  Otherwise, the customer would be an \"existing customer\"."
   ]
  },
  {
   "cell_type": "code",
   "execution_count": 12,
   "metadata": {},
   "outputs": [
    {
     "data": {
      "text/plain": [
       "Attrition_Flag\n",
       "Existing Customer    8500\n",
       "Attrited Customer    1627\n",
       "Name: count, dtype: int64"
      ]
     },
     "execution_count": 12,
     "metadata": {},
     "output_type": "execute_result"
    }
   ],
   "source": [
    "df['Attrition_Flag'].value_counts()"
   ]
  },
  {
   "cell_type": "code",
   "execution_count": 13,
   "metadata": {},
   "outputs": [
    {
     "name": "stdout",
     "output_type": "stream",
     "text": [
      "The percentage of attrited customers is: 16.065962279055988 percent.\n"
     ]
    }
   ],
   "source": [
    "num_attrited_customers = len(attrited_customers)\n",
    "num_existing_customers = len(existing_customers)\n",
    "print(\"The percentage of attrited customers is: \"+str((num_attrited_customers / len(df)) * 100) + \" percent.\")"
   ]
  },
  {
   "cell_type": "markdown",
   "metadata": {},
   "source": [
    "We are dealing with an imbalanced dataset since there are only 16% of attrited customers in the set."
   ]
  },
  {
   "cell_type": "code",
   "execution_count": 15,
   "metadata": {},
   "outputs": [
    {
     "data": {
      "text/plain": [
       "<AxesSubplot:title={'center':'Attrition_Flag'}, ylabel='count'>"
      ]
     },
     "execution_count": 15,
     "metadata": {},
     "output_type": "execute_result"
    },
    {
     "data": {
      "image/png": "[encoded data removed]",
      "text/plain": [
       "<Figure size 640x480 with 1 Axes>"
      ]
     },
     "metadata": {},
     "output_type": "display_data"
    }
   ],
   "source": [
    "import plotly.express as ex\n",
    "#ex.pie(df,names='Attrition_Flag', hole=0)\n",
    "df['Attrition_Flag'].value_counts().plot(kind='pie', title='Attrition_Flag', autopct='%1.1f%%')"
   ]
  },
  {
   "cell_type": "code",
   "execution_count": 16,
   "metadata": {},
   "outputs": [
    {
     "name": "stdout",
     "output_type": "stream",
     "text": [
      "The general stats of all attrited customer data is below.\n"
     ]
    },
    {
     "data": {
      "text/html": [
       "<div>\n",
       "<style scoped>\n",
       "    .dataframe tbody tr th:only-of-type {\n",
       "        vertical-align: middle;\n",
       "    }\n",
       "\n",
       "    .dataframe tbody tr th {\n",
       "        vertical-align: top;\n",
       "    }\n",
       "\n",
       "    .dataframe thead th {\n",
       "        text-align: right;\n",
       "    }\n",
       "</style>\n",
       "<table border=\"1\" class=\"dataframe\">\n",
       "  <thead>\n",
       "    <tr style=\"text-align: right;\">\n",
       "      <th></th>\n",
       "      <th>CLIENTNUM</th>\n",
       "      <th>Customer_Age</th>\n",
       "      <th>Dependent_count</th>\n",
       "      <th>Months_on_book</th>\n",
       "      <th>Total_Relationship_Count</th>\n",
       "      <th>Months_Inactive_12_mon</th>\n",
       "      <th>Contacts_Count_12_mon</th>\n",
       "      <th>Credit_Limit</th>\n",
       "      <th>Total_Revolving_Bal</th>\n",
       "      <th>Avg_Open_To_Buy</th>\n",
       "      <th>Total_Amt_Chng_Q4_Q1</th>\n",
       "      <th>Total_Trans_Amt</th>\n",
       "      <th>Total_Trans_Ct</th>\n",
       "      <th>Total_Ct_Chng_Q4_Q1</th>\n",
       "      <th>Avg_Utilization_Ratio</th>\n",
       "      <th>Naive_Bayes_Classifier_Attrition_Flag_Card_Category_Contacts_Count_12_mon_Dependent_count_Education_Level_Months_Inactive_12_mon_1</th>\n",
       "      <th>Naive_Bayes_Classifier_Attrition_Flag_Card_Category_Contacts_Count_12_mon_Dependent_count_Education_Level_Months_Inactive_12_mon_2</th>\n",
       "    </tr>\n",
       "  </thead>\n",
       "  <tbody>\n",
       "    <tr>\n",
       "      <th>count</th>\n",
       "      <td>1.627000e+03</td>\n",
       "      <td>1627.000000</td>\n",
       "      <td>1627.000000</td>\n",
       "      <td>1627.000000</td>\n",
       "      <td>1627.000000</td>\n",
       "      <td>1627.000000</td>\n",
       "      <td>1627.000000</td>\n",
       "      <td>1627.000000</td>\n",
       "      <td>1627.000000</td>\n",
       "      <td>1627.000000</td>\n",
       "      <td>1627.000000</td>\n",
       "      <td>1627.000000</td>\n",
       "      <td>1627.000000</td>\n",
       "      <td>1627.000000</td>\n",
       "      <td>1627.000000</td>\n",
       "      <td>1627.000000</td>\n",
       "      <td>1627.000000</td>\n",
       "    </tr>\n",
       "    <tr>\n",
       "      <th>mean</th>\n",
       "      <td>7.352614e+08</td>\n",
       "      <td>46.659496</td>\n",
       "      <td>2.402581</td>\n",
       "      <td>36.178242</td>\n",
       "      <td>3.279656</td>\n",
       "      <td>2.693301</td>\n",
       "      <td>2.972342</td>\n",
       "      <td>8136.039459</td>\n",
       "      <td>672.822987</td>\n",
       "      <td>7463.216472</td>\n",
       "      <td>0.694277</td>\n",
       "      <td>3095.025814</td>\n",
       "      <td>44.933620</td>\n",
       "      <td>0.554386</td>\n",
       "      <td>0.162475</td>\n",
       "      <td>0.994909</td>\n",
       "      <td>0.005091</td>\n",
       "    </tr>\n",
       "    <tr>\n",
       "      <th>std</th>\n",
       "      <td>3.557725e+07</td>\n",
       "      <td>7.665652</td>\n",
       "      <td>1.275010</td>\n",
       "      <td>7.796548</td>\n",
       "      <td>1.577782</td>\n",
       "      <td>0.899623</td>\n",
       "      <td>1.090537</td>\n",
       "      <td>9095.334105</td>\n",
       "      <td>921.385582</td>\n",
       "      <td>9109.208129</td>\n",
       "      <td>0.214924</td>\n",
       "      <td>2308.227629</td>\n",
       "      <td>14.568429</td>\n",
       "      <td>0.226854</td>\n",
       "      <td>0.264458</td>\n",
       "      <td>0.004303</td>\n",
       "      <td>0.004303</td>\n",
       "    </tr>\n",
       "    <tr>\n",
       "      <th>min</th>\n",
       "      <td>7.080833e+08</td>\n",
       "      <td>26.000000</td>\n",
       "      <td>0.000000</td>\n",
       "      <td>13.000000</td>\n",
       "      <td>1.000000</td>\n",
       "      <td>0.000000</td>\n",
       "      <td>0.000000</td>\n",
       "      <td>1438.300000</td>\n",
       "      <td>0.000000</td>\n",
       "      <td>3.000000</td>\n",
       "      <td>0.000000</td>\n",
       "      <td>510.000000</td>\n",
       "      <td>10.000000</td>\n",
       "      <td>0.000000</td>\n",
       "      <td>0.000000</td>\n",
       "      <td>0.945910</td>\n",
       "      <td>0.000420</td>\n",
       "    </tr>\n",
       "    <tr>\n",
       "      <th>25%</th>\n",
       "      <td>7.123713e+08</td>\n",
       "      <td>41.000000</td>\n",
       "      <td>2.000000</td>\n",
       "      <td>32.000000</td>\n",
       "      <td>2.000000</td>\n",
       "      <td>2.000000</td>\n",
       "      <td>2.000000</td>\n",
       "      <td>2114.000000</td>\n",
       "      <td>0.000000</td>\n",
       "      <td>1587.000000</td>\n",
       "      <td>0.544500</td>\n",
       "      <td>1903.500000</td>\n",
       "      <td>37.000000</td>\n",
       "      <td>0.400000</td>\n",
       "      <td>0.000000</td>\n",
       "      <td>0.994300</td>\n",
       "      <td>0.002825</td>\n",
       "    </tr>\n",
       "    <tr>\n",
       "      <th>50%</th>\n",
       "      <td>7.165644e+08</td>\n",
       "      <td>47.000000</td>\n",
       "      <td>2.000000</td>\n",
       "      <td>36.000000</td>\n",
       "      <td>3.000000</td>\n",
       "      <td>3.000000</td>\n",
       "      <td>3.000000</td>\n",
       "      <td>4178.000000</td>\n",
       "      <td>0.000000</td>\n",
       "      <td>3488.000000</td>\n",
       "      <td>0.701000</td>\n",
       "      <td>2329.000000</td>\n",
       "      <td>43.000000</td>\n",
       "      <td>0.531000</td>\n",
       "      <td>0.000000</td>\n",
       "      <td>0.996310</td>\n",
       "      <td>0.003688</td>\n",
       "    </tr>\n",
       "    <tr>\n",
       "      <th>75%</th>\n",
       "      <td>7.683737e+08</td>\n",
       "      <td>52.000000</td>\n",
       "      <td>3.000000</td>\n",
       "      <td>40.000000</td>\n",
       "      <td>5.000000</td>\n",
       "      <td>3.000000</td>\n",
       "      <td>4.000000</td>\n",
       "      <td>9933.500000</td>\n",
       "      <td>1303.500000</td>\n",
       "      <td>9257.500000</td>\n",
       "      <td>0.856000</td>\n",
       "      <td>2772.000000</td>\n",
       "      <td>51.000000</td>\n",
       "      <td>0.692000</td>\n",
       "      <td>0.231000</td>\n",
       "      <td>0.997170</td>\n",
       "      <td>0.005700</td>\n",
       "    </tr>\n",
       "    <tr>\n",
       "      <th>max</th>\n",
       "      <td>8.282949e+08</td>\n",
       "      <td>68.000000</td>\n",
       "      <td>5.000000</td>\n",
       "      <td>56.000000</td>\n",
       "      <td>6.000000</td>\n",
       "      <td>6.000000</td>\n",
       "      <td>6.000000</td>\n",
       "      <td>34516.000000</td>\n",
       "      <td>2517.000000</td>\n",
       "      <td>34516.000000</td>\n",
       "      <td>1.492000</td>\n",
       "      <td>10583.000000</td>\n",
       "      <td>94.000000</td>\n",
       "      <td>2.500000</td>\n",
       "      <td>0.999000</td>\n",
       "      <td>0.999580</td>\n",
       "      <td>0.054090</td>\n",
       "    </tr>\n",
       "  </tbody>\n",
       "</table>\n",
       "</div>"
      ],
      "text/plain": [
       "          CLIENTNUM  Customer_Age  Dependent_count  Months_on_book   \n",
       "count  1.627000e+03   1627.000000      1627.000000     1627.000000  \\\n",
       "mean   7.352614e+08     46.659496         2.402581       36.178242   \n",
       "std    3.557725e+07      7.665652         1.275010        7.796548   \n",
       "min    7.080833e+08     26.000000         0.000000       13.000000   \n",
       "25%    7.123713e+08     41.000000         2.000000       32.000000   \n",
       "50%    7.165644e+08     47.000000         2.000000       36.000000   \n",
       "75%    7.683737e+08     52.000000         3.000000       40.000000   \n",
       "max    8.282949e+08     68.000000         5.000000       56.000000   \n",
       "\n",
       "       Total_Relationship_Count  Months_Inactive_12_mon   \n",
       "count               1627.000000             1627.000000  \\\n",
       "mean                   3.279656                2.693301   \n",
       "std                    1.577782                0.899623   \n",
       "min                    1.000000                0.000000   \n",
       "25%                    2.000000                2.000000   \n",
       "50%                    3.000000                3.000000   \n",
       "75%                    5.000000                3.000000   \n",
       "max                    6.000000                6.000000   \n",
       "\n",
       "       Contacts_Count_12_mon  Credit_Limit  Total_Revolving_Bal   \n",
       "count            1627.000000   1627.000000          1627.000000  \\\n",
       "mean                2.972342   8136.039459           672.822987   \n",
       "std                 1.090537   9095.334105           921.385582   \n",
       "min                 0.000000   1438.300000             0.000000   \n",
       "25%                 2.000000   2114.000000             0.000000   \n",
       "50%                 3.000000   4178.000000             0.000000   \n",
       "75%                 4.000000   9933.500000          1303.500000   \n",
       "max                 6.000000  34516.000000          2517.000000   \n",
       "\n",
       "       Avg_Open_To_Buy  Total_Amt_Chng_Q4_Q1  Total_Trans_Amt  Total_Trans_Ct   \n",
       "count      1627.000000           1627.000000      1627.000000     1627.000000  \\\n",
       "mean       7463.216472              0.694277      3095.025814       44.933620   \n",
       "std        9109.208129              0.214924      2308.227629       14.568429   \n",
       "min           3.000000              0.000000       510.000000       10.000000   \n",
       "25%        1587.000000              0.544500      1903.500000       37.000000   \n",
       "50%        3488.000000              0.701000      2329.000000       43.000000   \n",
       "75%        9257.500000              0.856000      2772.000000       51.000000   \n",
       "max       34516.000000              1.492000     10583.000000       94.000000   \n",
       "\n",
       "       Total_Ct_Chng_Q4_Q1  Avg_Utilization_Ratio   \n",
       "count          1627.000000            1627.000000  \\\n",
       "mean              0.554386               0.162475   \n",
       "std               0.226854               0.264458   \n",
       "min               0.000000               0.000000   \n",
       "25%               0.400000               0.000000   \n",
       "50%               0.531000               0.000000   \n",
       "75%               0.692000               0.231000   \n",
       "max               2.500000               0.999000   \n",
       "\n",
       "       Naive_Bayes_Classifier_Attrition_Flag_Card_Category_Contacts_Count_12_mon_Dependent_count_Education_Level_Months_Inactive_12_mon_1   \n",
       "count                                        1627.000000                                                                                   \\\n",
       "mean                                            0.994909                                                                                    \n",
       "std                                             0.004303                                                                                    \n",
       "min                                             0.945910                                                                                    \n",
       "25%                                             0.994300                                                                                    \n",
       "50%                                             0.996310                                                                                    \n",
       "75%                                             0.997170                                                                                    \n",
       "max                                             0.999580                                                                                    \n",
       "\n",
       "       Naive_Bayes_Classifier_Attrition_Flag_Card_Category_Contacts_Count_12_mon_Dependent_count_Education_Level_Months_Inactive_12_mon_2  \n",
       "count                                        1627.000000                                                                                   \n",
       "mean                                            0.005091                                                                                   \n",
       "std                                             0.004303                                                                                   \n",
       "min                                             0.000420                                                                                   \n",
       "25%                                             0.002825                                                                                   \n",
       "50%                                             0.003688                                                                                   \n",
       "75%                                             0.005700                                                                                   \n",
       "max                                             0.054090                                                                                   "
      ]
     },
     "execution_count": 16,
     "metadata": {},
     "output_type": "execute_result"
    }
   ],
   "source": [
    "print(\"The general stats of all attrited customer data is below.\")\n",
    "attrited_customers.describe()"
   ]
  },
  {
   "cell_type": "code",
   "execution_count": 17,
   "metadata": {},
   "outputs": [
    {
     "name": "stdout",
     "output_type": "stream",
     "text": [
      "The breakdown of gender for all attrited customers is below:\n"
     ]
    },
    {
     "data": {
      "text/plain": [
       "Gender\n",
       "F    930\n",
       "M    697\n",
       "Name: count, dtype: int64"
      ]
     },
     "execution_count": 17,
     "metadata": {},
     "output_type": "execute_result"
    }
   ],
   "source": [
    "print(\"The breakdown of gender for all attrited customers is below:\")\n",
    "attrited_customers['Gender'].value_counts()"
   ]
  },
  {
   "cell_type": "code",
   "execution_count": 18,
   "metadata": {},
   "outputs": [
    {
     "name": "stdout",
     "output_type": "stream",
     "text": [
      "The breakdown of education level for all attrited customers is below:\n"
     ]
    },
    {
     "data": {
      "text/plain": [
       "Education_Level\n",
       "Graduate         487\n",
       "High School      306\n",
       "Unknown          256\n",
       "Uneducated       237\n",
       "College          154\n",
       "Doctorate         95\n",
       "Post-Graduate     92\n",
       "Name: count, dtype: int64"
      ]
     },
     "execution_count": 18,
     "metadata": {},
     "output_type": "execute_result"
    }
   ],
   "source": [
    "print(\"The breakdown of education level for all attrited customers is below:\")\n",
    "attrited_customers['Education_Level'].value_counts()"
   ]
  },
  {
   "cell_type": "code",
   "execution_count": 19,
   "metadata": {},
   "outputs": [
    {
     "name": "stdout",
     "output_type": "stream",
     "text": [
      "The breakdown of marital status for all attrited customers is below:\n"
     ]
    },
    {
     "data": {
      "text/plain": [
       "Marital_Status\n",
       "Married     709\n",
       "Single      668\n",
       "Unknown     129\n",
       "Divorced    121\n",
       "Name: count, dtype: int64"
      ]
     },
     "execution_count": 19,
     "metadata": {},
     "output_type": "execute_result"
    }
   ],
   "source": [
    "print(\"The breakdown of marital status for all attrited customers is below:\")\n",
    "attrited_customers['Marital_Status'].value_counts()"
   ]
  },
  {
   "cell_type": "code",
   "execution_count": 20,
   "metadata": {},
   "outputs": [
    {
     "name": "stdout",
     "output_type": "stream",
     "text": [
      "The breakdown of income category in the data set is below:\n"
     ]
    },
    {
     "data": {
      "text/plain": [
       "Income_Category\n",
       "Less than $40K    612\n",
       "$40K - $60K       271\n",
       "$80K - $120K      242\n",
       "$60K - $80K       189\n",
       "Unknown           187\n",
       "$120K +           126\n",
       "Name: count, dtype: int64"
      ]
     },
     "execution_count": 20,
     "metadata": {},
     "output_type": "execute_result"
    }
   ],
   "source": [
    "print(\"The breakdown of income category in the data set is below:\")\n",
    "attrited_customers['Income_Category'].value_counts()"
   ]
  },
  {
   "cell_type": "code",
   "execution_count": 21,
   "metadata": {},
   "outputs": [
    {
     "name": "stdout",
     "output_type": "stream",
     "text": [
      "The breakdown of card category in the data set is below:\n"
     ]
    },
    {
     "data": {
      "text/plain": [
       "Card_Category\n",
       "Blue        1519\n",
       "Silver        82\n",
       "Gold          21\n",
       "Platinum       5\n",
       "Name: count, dtype: int64"
      ]
     },
     "execution_count": 21,
     "metadata": {},
     "output_type": "execute_result"
    }
   ],
   "source": [
    "print(\"The breakdown of card category in the data set is below:\")\n",
    "attrited_customers['Card_Category'].value_counts()"
   ]
  },
  {
   "cell_type": "markdown",
   "metadata": {},
   "source": [
    "### Null Values"
   ]
  },
  {
   "cell_type": "code",
   "execution_count": 22,
   "metadata": {},
   "outputs": [
    {
     "data": {
      "text/plain": [
       "CLIENTNUM                   0\n",
       "Attrition_Flag              0\n",
       "Customer_Age                0\n",
       "Gender                      0\n",
       "Dependent_count             0\n",
       "Education_Level             0\n",
       "Marital_Status              0\n",
       "Income_Category             0\n",
       "Card_Category               0\n",
       "Months_on_book              0\n",
       "Total_Relationship_Count    0\n",
       "Months_Inactive_12_mon      0\n",
       "Contacts_Count_12_mon       0\n",
       "Credit_Limit                0\n",
       "Total_Revolving_Bal         0\n",
       "Avg_Open_To_Buy             0\n",
       "Total_Amt_Chng_Q4_Q1        0\n",
       "Total_Trans_Amt             0\n",
       "Total_Trans_Ct              0\n",
       "Total_Ct_Chng_Q4_Q1         0\n",
       "Avg_Utilization_Ratio       0\n",
       "dtype: int64"
      ]
     },
     "execution_count": 22,
     "metadata": {},
     "output_type": "execute_result"
    }
   ],
   "source": [
    "df.isna().sum()"
   ]
  },
  {
   "cell_type": "markdown",
   "metadata": {},
   "source": [
    "There appears to be no null values."
   ]
  },
  {
   "cell_type": "markdown",
   "metadata": {},
   "source": [
    "## Data Visualizations"
   ]
  },
  {
   "cell_type": "markdown",
   "metadata": {},
   "source": [
    "### Breakdown of Categorical Attributes between Attrited and Existing Customers"
   ]
  },
  {
   "cell_type": "markdown",
   "metadata": {},
   "source": [
    "#### Gender\n",
    "\n",
    "Since there are more females and males in the data set, the breakdown in gender between the 2 types of categories was not surprising."
   ]
  },
  {
   "cell_type": "code",
   "execution_count": 23,
   "metadata": {},
   "outputs": [
    {
     "data": {
      "text/plain": [
       "<AxesSubplot:title={'center':'Gender by Attrition Flag'}, xlabel='Attrition_Flag,Gender'>"
      ]
     },
     "execution_count": 23,
     "metadata": {},
     "output_type": "execute_result"
    },
    {
     "data": {
      "image/png": "[encoded data removed]",
      "text/plain": [
       "<Figure size 640x480 with 1 Axes>"
      ]
     },
     "metadata": {},
     "output_type": "display_data"
    }
   ],
   "source": [
    "df_attrition_gender = df.groupby('Attrition_Flag')['Gender'].value_counts()\n",
    "\n",
    "df_attrition_gender.plot.bar(x='Attrition_Flag', stacked=True, title='Gender by Attrition Flag')"
   ]
  },
  {
   "cell_type": "markdown",
   "metadata": {},
   "source": [
    "Since there are more females than males in the data set, the results above are no surprise."
   ]
  },
  {
   "cell_type": "markdown",
   "metadata": {},
   "source": [
    "#### Education Level\n",
    "\n",
    "Between existing and attrited customers, the ratio of customers in each education category appears the same."
   ]
  },
  {
   "cell_type": "code",
   "execution_count": 24,
   "metadata": {},
   "outputs": [
    {
     "data": {
      "text/plain": [
       "<AxesSubplot:title={'center':'Education_Level - Attrited Customers'}, ylabel='count'>"
      ]
     },
     "execution_count": 24,
     "metadata": {},
     "output_type": "execute_result"
    },
    {
     "data": {
      "image/png": "[encoded data removed]",
      "text/plain": [
       "<Figure size 640x480 with 1 Axes>"
      ]
     },
     "metadata": {},
     "output_type": "display_data"
    }
   ],
   "source": [
    "attrited_customers['Education_Level'].value_counts().plot(kind='pie', title='Education_Level - Attrited Customers', autopct='%1.1f%%')"
   ]
  },
  {
   "cell_type": "code",
   "execution_count": 25,
   "metadata": {},
   "outputs": [
    {
     "data": {
      "text/plain": [
       "<AxesSubplot:title={'center':'Education_Level - Existing Customers'}, ylabel='count'>"
      ]
     },
     "execution_count": 25,
     "metadata": {},
     "output_type": "execute_result"
    },
    {
     "data": {
      "image/png": "[encoded data removed]",
      "text/plain": [
       "<Figure size 640x480 with 1 Axes>"
      ]
     },
     "metadata": {},
     "output_type": "display_data"
    }
   ],
   "source": [
    "existing_customers['Education_Level'].value_counts().plot(kind='pie', title='Education_Level - Existing Customers', autopct='%1.1f%%')"
   ]
  },
  {
   "cell_type": "markdown",
   "metadata": {},
   "source": [
    "#### Marital Status\n",
    "\n",
    "Between existing and attrited customers, the ratio of customers in each marital status category appears the same."
   ]
  },
  {
   "cell_type": "code",
   "execution_count": 26,
   "metadata": {},
   "outputs": [
    {
     "data": {
      "text/plain": [
       "<AxesSubplot:title={'center':'Marital Status - Attrited Customers'}, ylabel='count'>"
      ]
     },
     "execution_count": 26,
     "metadata": {},
     "output_type": "execute_result"
    },
    {
     "data": {
      "image/png": "[encoded data removed]",
      "text/plain": [
       "<Figure size 640x480 with 1 Axes>"
      ]
     },
     "metadata": {},
     "output_type": "display_data"
    }
   ],
   "source": [
    "attrited_customers['Marital_Status'].value_counts().plot(kind='pie', title='Marital Status - Attrited Customers', autopct='%1.1f%%')"
   ]
  },
  {
   "cell_type": "code",
   "execution_count": 27,
   "metadata": {},
   "outputs": [
    {
     "data": {
      "text/plain": [
       "<AxesSubplot:title={'center':'Marital Status - Existing Customers'}, ylabel='count'>"
      ]
     },
     "execution_count": 27,
     "metadata": {},
     "output_type": "execute_result"
    },
    {
     "data": {
      "image/png": "[encoded data removed]",
      "text/plain": [
       "<Figure size 640x480 with 1 Axes>"
      ]
     },
     "metadata": {},
     "output_type": "display_data"
    }
   ],
   "source": [
    "existing_customers['Marital_Status'].value_counts().plot(kind='pie', title='Marital Status - Existing Customers', autopct='%1.1f%%')"
   ]
  },
  {
   "cell_type": "markdown",
   "metadata": {},
   "source": [
    "#### Income Category\n",
    "\n",
    "Between existing and attrited customers, the ratio of customers between the 2 types of customers in each income bracket appears the same."
   ]
  },
  {
   "cell_type": "code",
   "execution_count": 28,
   "metadata": {},
   "outputs": [
    {
     "data": {
      "text/plain": [
       "<AxesSubplot:title={'center':'Income Category by Attrition Flag'}, xlabel='Attrition_Flag,Income_Category'>"
      ]
     },
     "execution_count": 28,
     "metadata": {},
     "output_type": "execute_result"
    },
    {
     "data": {
      "image/png": "[encoded data removed]",
      "text/plain": [
       "<Figure size 640x480 with 1 Axes>"
      ]
     },
     "metadata": {},
     "output_type": "display_data"
    }
   ],
   "source": [
    "df_attrition_gender = df.groupby('Attrition_Flag')['Income_Category'].value_counts()\n",
    "\n",
    "df_attrition_gender.plot.bar(x='Attrition_Flag', stacked=True, title='Income Category by Attrition Flag')"
   ]
  },
  {
   "cell_type": "markdown",
   "metadata": {},
   "source": [
    "#### Card Category\n",
    "\n",
    "Most customers are in the Blue category.  In second place is the Silver category.  There seems to be only existing customers who are using the Gold category."
   ]
  },
  {
   "cell_type": "code",
   "execution_count": 29,
   "metadata": {},
   "outputs": [
    {
     "data": {
      "text/plain": [
       "<AxesSubplot:title={'center':'Card Category by Attrition Flag'}, xlabel='Attrition_Flag,Card_Category'>"
      ]
     },
     "execution_count": 29,
     "metadata": {},
     "output_type": "execute_result"
    },
    {
     "data": {
      "image/png": "[encoded data removed]",
      "text/plain": [
       "<Figure size 640x480 with 1 Axes>"
      ]
     },
     "metadata": {},
     "output_type": "display_data"
    }
   ],
   "source": [
    "df_attrition_gender = df.groupby('Attrition_Flag')['Card_Category'].value_counts()\n",
    "\n",
    "df_attrition_gender.plot.bar(x='Attrition_Flag', stacked=True, title='Card Category by Attrition Flag')"
   ]
  },
  {
   "cell_type": "markdown",
   "metadata": {},
   "source": [
    "### Breakdown of Select Continuous Attributes between Attrited and Existing Customers\n"
   ]
  },
  {
   "cell_type": "markdown",
   "metadata": {},
   "source": [
    "#### Months on the Book - Existing vs. Attritted Customers\n",
    "\n",
    "The breakdown of months on book between existing and attritted customers appears the same between the 2 groups."
   ]
  },
  {
   "cell_type": "code",
   "execution_count": 30,
   "metadata": {},
   "outputs": [
    {
     "data": {
      "text/plain": [
       "array([<AxesSubplot:title={'center':'Attrited Customer'}>,\n",
       "       <AxesSubplot:title={'center':'Existing Customer'}>], dtype=object)"
      ]
     },
     "execution_count": 30,
     "metadata": {},
     "output_type": "execute_result"
    },
    {
     "data": {
      "image/png": "[encoded data removed]",
      "text/plain": [
       "<Figure size 640x480 with 2 Axes>"
      ]
     },
     "metadata": {},
     "output_type": "display_data"
    }
   ],
   "source": [
    "df['Months_on_book'].hist(by=df['Attrition_Flag'])"
   ]
  },
  {
   "cell_type": "markdown",
   "metadata": {},
   "source": [
    "#### Age - Existing vs. Attritted Customers\n",
    "\n",
    "The age breakdown between existing and attritted customers appears to be almost the same."
   ]
  },
  {
   "cell_type": "code",
   "execution_count": 31,
   "metadata": {},
   "outputs": [
    {
     "data": {
      "text/plain": [
       "array([<AxesSubplot:title={'center':'Attrited Customer'}>,\n",
       "       <AxesSubplot:title={'center':'Existing Customer'}>], dtype=object)"
      ]
     },
     "execution_count": 31,
     "metadata": {},
     "output_type": "execute_result"
    },
    {
     "data": {
      "image/png": "[encoded data removed]",
      "text/plain": [
       "<Figure size 640x480 with 2 Axes>"
      ]
     },
     "metadata": {},
     "output_type": "display_data"
    }
   ],
   "source": [
    "df['Customer_Age'].hist(by=df['Attrition_Flag'])"
   ]
  },
  {
   "cell_type": "code",
   "execution_count": 32,
   "metadata": {},
   "outputs": [
    {
     "name": "stdout",
     "output_type": "stream",
     "text": [
      "The mean of existing customers is: 46.26211764705882\n",
      "The mean of attritted customers is: 46.659496004917024\n"
     ]
    }
   ],
   "source": [
    "print(\"The mean of existing customers is: \" + str(existing_customers['Customer_Age'].mean()))\n",
    "print(\"The mean of attritted customers is: \" + str(attrited_customers['Customer_Age'].mean()))"
   ]
  },
  {
   "cell_type": "markdown",
   "metadata": {},
   "source": [
    "#### Credit Limit - Existing vs. Attrited Customers\n",
    "\n",
    "The credit limit breakdown between existing and attrited customers appears to be the same."
   ]
  },
  {
   "cell_type": "code",
   "execution_count": 33,
   "metadata": {},
   "outputs": [
    {
     "data": {
      "text/plain": [
       "array([<AxesSubplot:title={'center':'Attrited Customer'}>,\n",
       "       <AxesSubplot:title={'center':'Existing Customer'}>], dtype=object)"
      ]
     },
     "execution_count": 33,
     "metadata": {},
     "output_type": "execute_result"
    },
    {
     "data": {
      "image/png": "[encoded data removed]",
      "text/plain": [
       "<Figure size 640x480 with 2 Axes>"
      ]
     },
     "metadata": {},
     "output_type": "display_data"
    }
   ],
   "source": [
    "df['Credit_Limit'].hist(by=df['Attrition_Flag'])"
   ]
  },
  {
   "cell_type": "markdown",
   "metadata": {},
   "source": [
    "#### Total Revolving Balance - Existing vs. Attrited Customers\n",
    "\n",
    "From the graphs below, it appears that attrited customers tend to hold a much lower revolving balace than existing customers; indicating that this attribute may be important in determining whether a customer will churn."
   ]
  },
  {
   "cell_type": "code",
   "execution_count": 34,
   "metadata": {},
   "outputs": [
    {
     "data": {
      "text/plain": [
       "array([<AxesSubplot:title={'center':'Attrited Customer'}>,\n",
       "       <AxesSubplot:title={'center':'Existing Customer'}>], dtype=object)"
      ]
     },
     "execution_count": 34,
     "metadata": {},
     "output_type": "execute_result"
    },
    {
     "data": {
      "image/png": "[encoded data removed]",
      "text/plain": [
       "<Figure size 640x480 with 2 Axes>"
      ]
     },
     "metadata": {},
     "output_type": "display_data"
    }
   ],
   "source": [
    "df['Total_Revolving_Bal'].hist(by=df['Attrition_Flag'])"
   ]
  },
  {
   "cell_type": "markdown",
   "metadata": {},
   "source": [
    "#### Avg. Open to Buy - Existing vs. Attrited Customers\n",
    "\n",
    "\n",
    "The avg. open to buy breakdown between existing and attrited customers appears to be the same."
   ]
  },
  {
   "cell_type": "code",
   "execution_count": 35,
   "metadata": {},
   "outputs": [
    {
     "data": {
      "text/plain": [
       "array([<AxesSubplot:title={'center':'Attrited Customer'}>,\n",
       "       <AxesSubplot:title={'center':'Existing Customer'}>], dtype=object)"
      ]
     },
     "execution_count": 35,
     "metadata": {},
     "output_type": "execute_result"
    },
    {
     "data": {
      "image/png": "[encoded data removed]",
      "text/plain": [
       "<Figure size 640x480 with 2 Axes>"
      ]
     },
     "metadata": {},
     "output_type": "display_data"
    }
   ],
   "source": [
    "df['Avg_Open_To_Buy'].hist(by=df['Attrition_Flag'])"
   ]
  },
  {
   "cell_type": "markdown",
   "metadata": {},
   "source": [
    "#### Total Amt. Change Q4_Q1 - Existing vs. Attrited Customers\n",
    "\n",
    "\n",
    "From the graphs below, it appears that attrited customers tend to hold a much lower total amt change Q4_Q1 value than existing customers; indicating that this attribute may be important in determining whether a customer will churn."
   ]
  },
  {
   "cell_type": "code",
   "execution_count": 36,
   "metadata": {},
   "outputs": [
    {
     "data": {
      "text/plain": [
       "array([<AxesSubplot:title={'center':'Attrited Customer'}>,\n",
       "       <AxesSubplot:title={'center':'Existing Customer'}>], dtype=object)"
      ]
     },
     "execution_count": 36,
     "metadata": {},
     "output_type": "execute_result"
    },
    {
     "data": {
      "image/png": "[encoded data removed]",
      "text/plain": [
       "<Figure size 640x480 with 2 Axes>"
      ]
     },
     "metadata": {},
     "output_type": "display_data"
    }
   ],
   "source": [
    "df['Total_Amt_Chng_Q4_Q1'].hist(by=df['Attrition_Flag'])"
   ]
  },
  {
   "cell_type": "markdown",
   "metadata": {},
   "source": [
    "#### Total Ct. Change Q4_Q1 - Existing vs. Attrited Customers\n",
    "\n",
    "\n",
    "From the graphs below, it appears that attrited customers have a slightly lower value for this attribute than existing customers."
   ]
  },
  {
   "cell_type": "code",
   "execution_count": 37,
   "metadata": {},
   "outputs": [
    {
     "data": {
      "text/plain": [
       "array([<AxesSubplot:title={'center':'Attrited Customer'}>,\n",
       "       <AxesSubplot:title={'center':'Existing Customer'}>], dtype=object)"
      ]
     },
     "execution_count": 37,
     "metadata": {},
     "output_type": "execute_result"
    },
    {
     "data": {
      "image/png": "[encoded data removed]",
      "text/plain": [
       "<Figure size 640x480 with 2 Axes>"
      ]
     },
     "metadata": {},
     "output_type": "display_data"
    }
   ],
   "source": [
    "df['Total_Ct_Chng_Q4_Q1'].hist(by=df['Attrition_Flag'])"
   ]
  },
  {
   "cell_type": "code",
   "execution_count": 38,
   "metadata": {},
   "outputs": [
    {
     "name": "stdout",
     "output_type": "stream",
     "text": [
      "count    8500.000000\n",
      "mean        0.742434\n",
      "std         0.228054\n",
      "min         0.028000\n",
      "25%         0.617000\n",
      "50%         0.721000\n",
      "75%         0.833000\n",
      "max         3.714000\n",
      "Name: Total_Ct_Chng_Q4_Q1, dtype: float64\n",
      "count    1627.000000\n",
      "mean        0.554386\n",
      "std         0.226854\n",
      "min         0.000000\n",
      "25%         0.400000\n",
      "50%         0.531000\n",
      "75%         0.692000\n",
      "max         2.500000\n",
      "Name: Total_Ct_Chng_Q4_Q1, dtype: float64\n"
     ]
    }
   ],
   "source": [
    "print(existing_customers['Total_Ct_Chng_Q4_Q1'].describe())\n",
    "print(attrited_customers['Total_Ct_Chng_Q4_Q1'].describe())"
   ]
  },
  {
   "cell_type": "markdown",
   "metadata": {},
   "source": [
    "#### Total Trans Amt. - Existing vs. Attrited Customers\n",
    "\n",
    "Attrited customers have a lower value for total trans amt. compared to existing customers."
   ]
  },
  {
   "cell_type": "code",
   "execution_count": 39,
   "metadata": {},
   "outputs": [
    {
     "data": {
      "text/plain": [
       "array([<AxesSubplot:title={'center':'Attrited Customer'}>,\n",
       "       <AxesSubplot:title={'center':'Existing Customer'}>], dtype=object)"
      ]
     },
     "execution_count": 39,
     "metadata": {},
     "output_type": "execute_result"
    },
    {
     "data": {
      "image/png": "[encoded data removed]",
      "text/plain": [
       "<Figure size 640x480 with 2 Axes>"
      ]
     },
     "metadata": {},
     "output_type": "display_data"
    }
   ],
   "source": [
    "df['Total_Trans_Amt'].hist(by=df['Attrition_Flag'])"
   ]
  },
  {
   "cell_type": "markdown",
   "metadata": {},
   "source": [
    "#### Total Trans Ct. - Existing vs. Attrited Customers\n",
    "\n",
    "Attrited customers have a lower value for total trans ct. compared to existing customers."
   ]
  },
  {
   "cell_type": "code",
   "execution_count": 40,
   "metadata": {},
   "outputs": [
    {
     "data": {
      "text/plain": [
       "array([<AxesSubplot:title={'center':'Attrited Customer'}>,\n",
       "       <AxesSubplot:title={'center':'Existing Customer'}>], dtype=object)"
      ]
     },
     "execution_count": 40,
     "metadata": {},
     "output_type": "execute_result"
    },
    {
     "data": {
      "image/png": "[encoded data removed]",
      "text/plain": [
       "<Figure size 640x480 with 2 Axes>"
      ]
     },
     "metadata": {},
     "output_type": "display_data"
    }
   ],
   "source": [
    "df['Total_Trans_Ct'].hist(by=df['Attrition_Flag'])"
   ]
  },
  {
   "cell_type": "markdown",
   "metadata": {},
   "source": [
    "#### Avg. Utilization Ratio\n",
    "\n",
    "Attrited customers tend to have a lower avg. utilization ratio than existing customers."
   ]
  },
  {
   "cell_type": "code",
   "execution_count": 41,
   "metadata": {},
   "outputs": [
    {
     "data": {
      "text/plain": [
       "array([<AxesSubplot:title={'center':'Attrited Customer'}>,\n",
       "       <AxesSubplot:title={'center':'Existing Customer'}>], dtype=object)"
      ]
     },
     "execution_count": 41,
     "metadata": {},
     "output_type": "execute_result"
    },
    {
     "data": {
      "image/png": "[encoded data removed]",
      "text/plain": [
       "<Figure size 640x480 with 2 Axes>"
      ]
     },
     "metadata": {},
     "output_type": "display_data"
    }
   ],
   "source": [
    "df['Avg_Utilization_Ratio'].hist(by=df['Attrition_Flag'])"
   ]
  },
  {
   "cell_type": "markdown",
   "metadata": {},
   "source": [
    "### Heat Map & Correlations\n",
    "\n",
    "Below is a heat map on the correlation between the attributes."
   ]
  },
  {
   "cell_type": "code",
   "execution_count": 42,
   "metadata": {},
   "outputs": [
    {
     "data": {
      "image/png": "[encoded data removed]",
      "text/plain": [
       "<Figure size 1000x600 with 2 Axes>"
      ]
     },
     "metadata": {},
     "output_type": "display_data"
    }
   ],
   "source": [
    "### Correlation Heat Map\n",
    "#Correlation heat map\n",
    "plt.figure(figsize=(10, 6))\n",
    "sns.heatmap(df.corr())\n",
    "plt.title('Correlation Heat Map')\n",
    "plt.show()"
   ]
  },
  {
   "cell_type": "code",
   "execution_count": 43,
   "metadata": {},
   "outputs": [
    {
     "data": {
      "text/html": [
       "<div>\n",
       "<style scoped>\n",
       "    .dataframe tbody tr th:only-of-type {\n",
       "        vertical-align: middle;\n",
       "    }\n",
       "\n",
       "    .dataframe tbody tr th {\n",
       "        vertical-align: top;\n",
       "    }\n",
       "\n",
       "    .dataframe thead th {\n",
       "        text-align: right;\n",
       "    }\n",
       "</style>\n",
       "<table border=\"1\" class=\"dataframe\">\n",
       "  <thead>\n",
       "    <tr style=\"text-align: right;\">\n",
       "      <th></th>\n",
       "      <th>CLIENTNUM</th>\n",
       "      <th>Customer_Age</th>\n",
       "      <th>Dependent_count</th>\n",
       "      <th>Months_on_book</th>\n",
       "      <th>Total_Relationship_Count</th>\n",
       "      <th>Months_Inactive_12_mon</th>\n",
       "      <th>Contacts_Count_12_mon</th>\n",
       "      <th>Credit_Limit</th>\n",
       "      <th>Total_Revolving_Bal</th>\n",
       "      <th>Avg_Open_To_Buy</th>\n",
       "      <th>Total_Amt_Chng_Q4_Q1</th>\n",
       "      <th>Total_Trans_Amt</th>\n",
       "      <th>Total_Trans_Ct</th>\n",
       "      <th>Total_Ct_Chng_Q4_Q1</th>\n",
       "      <th>Avg_Utilization_Ratio</th>\n",
       "    </tr>\n",
       "  </thead>\n",
       "  <tbody>\n",
       "    <tr>\n",
       "      <th>CLIENTNUM</th>\n",
       "      <td>1.000000</td>\n",
       "      <td>0.007613</td>\n",
       "      <td>0.006772</td>\n",
       "      <td>0.134588</td>\n",
       "      <td>0.006907</td>\n",
       "      <td>0.005729</td>\n",
       "      <td>0.005694</td>\n",
       "      <td>0.005708</td>\n",
       "      <td>0.000825</td>\n",
       "      <td>0.005633</td>\n",
       "      <td>0.017369</td>\n",
       "      <td>-0.019692</td>\n",
       "      <td>-0.002961</td>\n",
       "      <td>0.007696</td>\n",
       "      <td>0.000266</td>\n",
       "    </tr>\n",
       "    <tr>\n",
       "      <th>Customer_Age</th>\n",
       "      <td>0.007613</td>\n",
       "      <td>1.000000</td>\n",
       "      <td>-0.122254</td>\n",
       "      <td>0.788912</td>\n",
       "      <td>-0.010931</td>\n",
       "      <td>0.054361</td>\n",
       "      <td>-0.018452</td>\n",
       "      <td>0.002476</td>\n",
       "      <td>0.014780</td>\n",
       "      <td>0.001151</td>\n",
       "      <td>-0.062042</td>\n",
       "      <td>-0.046446</td>\n",
       "      <td>-0.067097</td>\n",
       "      <td>-0.012143</td>\n",
       "      <td>0.007114</td>\n",
       "    </tr>\n",
       "    <tr>\n",
       "      <th>Dependent_count</th>\n",
       "      <td>0.006772</td>\n",
       "      <td>-0.122254</td>\n",
       "      <td>1.000000</td>\n",
       "      <td>-0.103062</td>\n",
       "      <td>-0.039076</td>\n",
       "      <td>-0.010768</td>\n",
       "      <td>-0.040505</td>\n",
       "      <td>0.068065</td>\n",
       "      <td>-0.002688</td>\n",
       "      <td>0.068291</td>\n",
       "      <td>-0.035439</td>\n",
       "      <td>0.025046</td>\n",
       "      <td>0.049912</td>\n",
       "      <td>0.011087</td>\n",
       "      <td>-0.037135</td>\n",
       "    </tr>\n",
       "    <tr>\n",
       "      <th>Months_on_book</th>\n",
       "      <td>0.134588</td>\n",
       "      <td>0.788912</td>\n",
       "      <td>-0.103062</td>\n",
       "      <td>1.000000</td>\n",
       "      <td>-0.009203</td>\n",
       "      <td>0.074164</td>\n",
       "      <td>-0.010774</td>\n",
       "      <td>0.007507</td>\n",
       "      <td>0.008623</td>\n",
       "      <td>0.006732</td>\n",
       "      <td>-0.048959</td>\n",
       "      <td>-0.038591</td>\n",
       "      <td>-0.049819</td>\n",
       "      <td>-0.014072</td>\n",
       "      <td>-0.007541</td>\n",
       "    </tr>\n",
       "    <tr>\n",
       "      <th>Total_Relationship_Count</th>\n",
       "      <td>0.006907</td>\n",
       "      <td>-0.010931</td>\n",
       "      <td>-0.039076</td>\n",
       "      <td>-0.009203</td>\n",
       "      <td>1.000000</td>\n",
       "      <td>-0.003675</td>\n",
       "      <td>0.055203</td>\n",
       "      <td>-0.071386</td>\n",
       "      <td>0.013726</td>\n",
       "      <td>-0.072601</td>\n",
       "      <td>0.050119</td>\n",
       "      <td>-0.347229</td>\n",
       "      <td>-0.241891</td>\n",
       "      <td>0.040831</td>\n",
       "      <td>0.067663</td>\n",
       "    </tr>\n",
       "    <tr>\n",
       "      <th>Months_Inactive_12_mon</th>\n",
       "      <td>0.005729</td>\n",
       "      <td>0.054361</td>\n",
       "      <td>-0.010768</td>\n",
       "      <td>0.074164</td>\n",
       "      <td>-0.003675</td>\n",
       "      <td>1.000000</td>\n",
       "      <td>0.029493</td>\n",
       "      <td>-0.020394</td>\n",
       "      <td>-0.042210</td>\n",
       "      <td>-0.016605</td>\n",
       "      <td>-0.032247</td>\n",
       "      <td>-0.036982</td>\n",
       "      <td>-0.042787</td>\n",
       "      <td>-0.038989</td>\n",
       "      <td>-0.007503</td>\n",
       "    </tr>\n",
       "    <tr>\n",
       "      <th>Contacts_Count_12_mon</th>\n",
       "      <td>0.005694</td>\n",
       "      <td>-0.018452</td>\n",
       "      <td>-0.040505</td>\n",
       "      <td>-0.010774</td>\n",
       "      <td>0.055203</td>\n",
       "      <td>0.029493</td>\n",
       "      <td>1.000000</td>\n",
       "      <td>0.020817</td>\n",
       "      <td>-0.053913</td>\n",
       "      <td>0.025646</td>\n",
       "      <td>-0.024445</td>\n",
       "      <td>-0.112774</td>\n",
       "      <td>-0.152213</td>\n",
       "      <td>-0.094997</td>\n",
       "      <td>-0.055471</td>\n",
       "    </tr>\n",
       "    <tr>\n",
       "      <th>Credit_Limit</th>\n",
       "      <td>0.005708</td>\n",
       "      <td>0.002476</td>\n",
       "      <td>0.068065</td>\n",
       "      <td>0.007507</td>\n",
       "      <td>-0.071386</td>\n",
       "      <td>-0.020394</td>\n",
       "      <td>0.020817</td>\n",
       "      <td>1.000000</td>\n",
       "      <td>0.042493</td>\n",
       "      <td>0.995981</td>\n",
       "      <td>0.012813</td>\n",
       "      <td>0.171730</td>\n",
       "      <td>0.075927</td>\n",
       "      <td>-0.002020</td>\n",
       "      <td>-0.482965</td>\n",
       "    </tr>\n",
       "    <tr>\n",
       "      <th>Total_Revolving_Bal</th>\n",
       "      <td>0.000825</td>\n",
       "      <td>0.014780</td>\n",
       "      <td>-0.002688</td>\n",
       "      <td>0.008623</td>\n",
       "      <td>0.013726</td>\n",
       "      <td>-0.042210</td>\n",
       "      <td>-0.053913</td>\n",
       "      <td>0.042493</td>\n",
       "      <td>1.000000</td>\n",
       "      <td>-0.047167</td>\n",
       "      <td>0.058174</td>\n",
       "      <td>0.064370</td>\n",
       "      <td>0.056060</td>\n",
       "      <td>0.089861</td>\n",
       "      <td>0.624022</td>\n",
       "    </tr>\n",
       "    <tr>\n",
       "      <th>Avg_Open_To_Buy</th>\n",
       "      <td>0.005633</td>\n",
       "      <td>0.001151</td>\n",
       "      <td>0.068291</td>\n",
       "      <td>0.006732</td>\n",
       "      <td>-0.072601</td>\n",
       "      <td>-0.016605</td>\n",
       "      <td>0.025646</td>\n",
       "      <td>0.995981</td>\n",
       "      <td>-0.047167</td>\n",
       "      <td>1.000000</td>\n",
       "      <td>0.007595</td>\n",
       "      <td>0.165923</td>\n",
       "      <td>0.070885</td>\n",
       "      <td>-0.010076</td>\n",
       "      <td>-0.538808</td>\n",
       "    </tr>\n",
       "    <tr>\n",
       "      <th>Total_Amt_Chng_Q4_Q1</th>\n",
       "      <td>0.017369</td>\n",
       "      <td>-0.062042</td>\n",
       "      <td>-0.035439</td>\n",
       "      <td>-0.048959</td>\n",
       "      <td>0.050119</td>\n",
       "      <td>-0.032247</td>\n",
       "      <td>-0.024445</td>\n",
       "      <td>0.012813</td>\n",
       "      <td>0.058174</td>\n",
       "      <td>0.007595</td>\n",
       "      <td>1.000000</td>\n",
       "      <td>0.039678</td>\n",
       "      <td>0.005469</td>\n",
       "      <td>0.384189</td>\n",
       "      <td>0.035235</td>\n",
       "    </tr>\n",
       "    <tr>\n",
       "      <th>Total_Trans_Amt</th>\n",
       "      <td>-0.019692</td>\n",
       "      <td>-0.046446</td>\n",
       "      <td>0.025046</td>\n",
       "      <td>-0.038591</td>\n",
       "      <td>-0.347229</td>\n",
       "      <td>-0.036982</td>\n",
       "      <td>-0.112774</td>\n",
       "      <td>0.171730</td>\n",
       "      <td>0.064370</td>\n",
       "      <td>0.165923</td>\n",
       "      <td>0.039678</td>\n",
       "      <td>1.000000</td>\n",
       "      <td>0.807192</td>\n",
       "      <td>0.085581</td>\n",
       "      <td>-0.083034</td>\n",
       "    </tr>\n",
       "    <tr>\n",
       "      <th>Total_Trans_Ct</th>\n",
       "      <td>-0.002961</td>\n",
       "      <td>-0.067097</td>\n",
       "      <td>0.049912</td>\n",
       "      <td>-0.049819</td>\n",
       "      <td>-0.241891</td>\n",
       "      <td>-0.042787</td>\n",
       "      <td>-0.152213</td>\n",
       "      <td>0.075927</td>\n",
       "      <td>0.056060</td>\n",
       "      <td>0.070885</td>\n",
       "      <td>0.005469</td>\n",
       "      <td>0.807192</td>\n",
       "      <td>1.000000</td>\n",
       "      <td>0.112324</td>\n",
       "      <td>0.002838</td>\n",
       "    </tr>\n",
       "    <tr>\n",
       "      <th>Total_Ct_Chng_Q4_Q1</th>\n",
       "      <td>0.007696</td>\n",
       "      <td>-0.012143</td>\n",
       "      <td>0.011087</td>\n",
       "      <td>-0.014072</td>\n",
       "      <td>0.040831</td>\n",
       "      <td>-0.038989</td>\n",
       "      <td>-0.094997</td>\n",
       "      <td>-0.002020</td>\n",
       "      <td>0.089861</td>\n",
       "      <td>-0.010076</td>\n",
       "      <td>0.384189</td>\n",
       "      <td>0.085581</td>\n",
       "      <td>0.112324</td>\n",
       "      <td>1.000000</td>\n",
       "      <td>0.074143</td>\n",
       "    </tr>\n",
       "    <tr>\n",
       "      <th>Avg_Utilization_Ratio</th>\n",
       "      <td>0.000266</td>\n",
       "      <td>0.007114</td>\n",
       "      <td>-0.037135</td>\n",
       "      <td>-0.007541</td>\n",
       "      <td>0.067663</td>\n",
       "      <td>-0.007503</td>\n",
       "      <td>-0.055471</td>\n",
       "      <td>-0.482965</td>\n",
       "      <td>0.624022</td>\n",
       "      <td>-0.538808</td>\n",
       "      <td>0.035235</td>\n",
       "      <td>-0.083034</td>\n",
       "      <td>0.002838</td>\n",
       "      <td>0.074143</td>\n",
       "      <td>1.000000</td>\n",
       "    </tr>\n",
       "  </tbody>\n",
       "</table>\n",
       "</div>"
      ],
      "text/plain": [
       "                          CLIENTNUM  Customer_Age  Dependent_count  \\\n",
       "CLIENTNUM                  1.000000      0.007613         0.006772   \n",
       "Customer_Age               0.007613      1.000000        -0.122254   \n",
       "Dependent_count            0.006772     -0.122254         1.000000   \n",
       "Months_on_book             0.134588      0.788912        -0.103062   \n",
       "Total_Relationship_Count   0.006907     -0.010931        -0.039076   \n",
       "Months_Inactive_12_mon     0.005729      0.054361        -0.010768   \n",
       "Contacts_Count_12_mon      0.005694     -0.018452        -0.040505   \n",
       "Credit_Limit               0.005708      0.002476         0.068065   \n",
       "Total_Revolving_Bal        0.000825      0.014780        -0.002688   \n",
       "Avg_Open_To_Buy            0.005633      0.001151         0.068291   \n",
       "Total_Amt_Chng_Q4_Q1       0.017369     -0.062042        -0.035439   \n",
       "Total_Trans_Amt           -0.019692     -0.046446         0.025046   \n",
       "Total_Trans_Ct            -0.002961     -0.067097         0.049912   \n",
       "Total_Ct_Chng_Q4_Q1        0.007696     -0.012143         0.011087   \n",
       "Avg_Utilization_Ratio      0.000266      0.007114        -0.037135   \n",
       "\n",
       "                          Months_on_book  Total_Relationship_Count  \\\n",
       "CLIENTNUM                       0.134588                  0.006907   \n",
       "Customer_Age                    0.788912                 -0.010931   \n",
       "Dependent_count                -0.103062                 -0.039076   \n",
       "Months_on_book                  1.000000                 -0.009203   \n",
       "Total_Relationship_Count       -0.009203                  1.000000   \n",
       "Months_Inactive_12_mon          0.074164                 -0.003675   \n",
       "Contacts_Count_12_mon          -0.010774                  0.055203   \n",
       "Credit_Limit                    0.007507                 -0.071386   \n",
       "Total_Revolving_Bal             0.008623                  0.013726   \n",
       "Avg_Open_To_Buy                 0.006732                 -0.072601   \n",
       "Total_Amt_Chng_Q4_Q1           -0.048959                  0.050119   \n",
       "Total_Trans_Amt                -0.038591                 -0.347229   \n",
       "Total_Trans_Ct                 -0.049819                 -0.241891   \n",
       "Total_Ct_Chng_Q4_Q1            -0.014072                  0.040831   \n",
       "Avg_Utilization_Ratio          -0.007541                  0.067663   \n",
       "\n",
       "                          Months_Inactive_12_mon  Contacts_Count_12_mon  \\\n",
       "CLIENTNUM                               0.005729               0.005694   \n",
       "Customer_Age                            0.054361              -0.018452   \n",
       "Dependent_count                        -0.010768              -0.040505   \n",
       "Months_on_book                          0.074164              -0.010774   \n",
       "Total_Relationship_Count               -0.003675               0.055203   \n",
       "Months_Inactive_12_mon                  1.000000               0.029493   \n",
       "Contacts_Count_12_mon                   0.029493               1.000000   \n",
       "Credit_Limit                           -0.020394               0.020817   \n",
       "Total_Revolving_Bal                    -0.042210              -0.053913   \n",
       "Avg_Open_To_Buy                        -0.016605               0.025646   \n",
       "Total_Amt_Chng_Q4_Q1                   -0.032247              -0.024445   \n",
       "Total_Trans_Amt                        -0.036982              -0.112774   \n",
       "Total_Trans_Ct                         -0.042787              -0.152213   \n",
       "Total_Ct_Chng_Q4_Q1                    -0.038989              -0.094997   \n",
       "Avg_Utilization_Ratio                  -0.007503              -0.055471   \n",
       "\n",
       "                          Credit_Limit  Total_Revolving_Bal  Avg_Open_To_Buy  \\\n",
       "CLIENTNUM                     0.005708             0.000825         0.005633   \n",
       "Customer_Age                  0.002476             0.014780         0.001151   \n",
       "Dependent_count               0.068065            -0.002688         0.068291   \n",
       "Months_on_book                0.007507             0.008623         0.006732   \n",
       "Total_Relationship_Count     -0.071386             0.013726        -0.072601   \n",
       "Months_Inactive_12_mon       -0.020394            -0.042210        -0.016605   \n",
       "Contacts_Count_12_mon         0.020817            -0.053913         0.025646   \n",
       "Credit_Limit                  1.000000             0.042493         0.995981   \n",
       "Total_Revolving_Bal           0.042493             1.000000        -0.047167   \n",
       "Avg_Open_To_Buy               0.995981            -0.047167         1.000000   \n",
       "Total_Amt_Chng_Q4_Q1          0.012813             0.058174         0.007595   \n",
       "Total_Trans_Amt               0.171730             0.064370         0.165923   \n",
       "Total_Trans_Ct                0.075927             0.056060         0.070885   \n",
       "Total_Ct_Chng_Q4_Q1          -0.002020             0.089861        -0.010076   \n",
       "Avg_Utilization_Ratio        -0.482965             0.624022        -0.538808   \n",
       "\n",
       "                          Total_Amt_Chng_Q4_Q1  Total_Trans_Amt  \\\n",
       "CLIENTNUM                             0.017369        -0.019692   \n",
       "Customer_Age                         -0.062042        -0.046446   \n",
       "Dependent_count                      -0.035439         0.025046   \n",
       "Months_on_book                       -0.048959        -0.038591   \n",
       "Total_Relationship_Count              0.050119        -0.347229   \n",
       "Months_Inactive_12_mon               -0.032247        -0.036982   \n",
       "Contacts_Count_12_mon                -0.024445        -0.112774   \n",
       "Credit_Limit                          0.012813         0.171730   \n",
       "Total_Revolving_Bal                   0.058174         0.064370   \n",
       "Avg_Open_To_Buy                       0.007595         0.165923   \n",
       "Total_Amt_Chng_Q4_Q1                  1.000000         0.039678   \n",
       "Total_Trans_Amt                       0.039678         1.000000   \n",
       "Total_Trans_Ct                        0.005469         0.807192   \n",
       "Total_Ct_Chng_Q4_Q1                   0.384189         0.085581   \n",
       "Avg_Utilization_Ratio                 0.035235        -0.083034   \n",
       "\n",
       "                          Total_Trans_Ct  Total_Ct_Chng_Q4_Q1  \\\n",
       "CLIENTNUM                      -0.002961             0.007696   \n",
       "Customer_Age                   -0.067097            -0.012143   \n",
       "Dependent_count                 0.049912             0.011087   \n",
       "Months_on_book                 -0.049819            -0.014072   \n",
       "Total_Relationship_Count       -0.241891             0.040831   \n",
       "Months_Inactive_12_mon         -0.042787            -0.038989   \n",
       "Contacts_Count_12_mon          -0.152213            -0.094997   \n",
       "Credit_Limit                    0.075927            -0.002020   \n",
       "Total_Revolving_Bal             0.056060             0.089861   \n",
       "Avg_Open_To_Buy                 0.070885            -0.010076   \n",
       "Total_Amt_Chng_Q4_Q1            0.005469             0.384189   \n",
       "Total_Trans_Amt                 0.807192             0.085581   \n",
       "Total_Trans_Ct                  1.000000             0.112324   \n",
       "Total_Ct_Chng_Q4_Q1             0.112324             1.000000   \n",
       "Avg_Utilization_Ratio           0.002838             0.074143   \n",
       "\n",
       "                          Avg_Utilization_Ratio  \n",
       "CLIENTNUM                              0.000266  \n",
       "Customer_Age                           0.007114  \n",
       "Dependent_count                       -0.037135  \n",
       "Months_on_book                        -0.007541  \n",
       "Total_Relationship_Count               0.067663  \n",
       "Months_Inactive_12_mon                -0.007503  \n",
       "Contacts_Count_12_mon                 -0.055471  \n",
       "Credit_Limit                          -0.482965  \n",
       "Total_Revolving_Bal                    0.624022  \n",
       "Avg_Open_To_Buy                       -0.538808  \n",
       "Total_Amt_Chng_Q4_Q1                   0.035235  \n",
       "Total_Trans_Amt                       -0.083034  \n",
       "Total_Trans_Ct                         0.002838  \n",
       "Total_Ct_Chng_Q4_Q1                    0.074143  \n",
       "Avg_Utilization_Ratio                  1.000000  "
      ]
     },
     "execution_count": 43,
     "metadata": {},
     "output_type": "execute_result"
    }
   ],
   "source": [
    "df.corr()"
   ]
  },
  {
   "cell_type": "markdown",
   "metadata": {},
   "source": [
    "Some higher correlations which are worth looking into:\n",
    "* Total_Trans_Amt vs. Total_Trans_Ct - .807\n",
    "* Credit_Limit vs. Avg_Open_To_Buy - .995\n",
    "* Months_on_book vs. Customer_Age - .789"
   ]
  },
  {
   "cell_type": "markdown",
   "metadata": {},
   "source": [
    "## Data Cleaning & Pre-Processing\n",
    "\n",
    "First, we need to split the data between the dependent variables and dependent (target) variable.  The independent (predictor) variables will be stored in X and the target variable will be stored in y."
   ]
  },
  {
   "cell_type": "code",
   "execution_count": 31,
   "metadata": {},
   "outputs": [
    {
     "data": {
      "text/html": [
       "<div>\n",
       "<style scoped>\n",
       "    .dataframe tbody tr th:only-of-type {\n",
       "        vertical-align: middle;\n",
       "    }\n",
       "\n",
       "    .dataframe tbody tr th {\n",
       "        vertical-align: top;\n",
       "    }\n",
       "\n",
       "    .dataframe thead th {\n",
       "        text-align: right;\n",
       "    }\n",
       "</style>\n",
       "<table border=\"1\" class=\"dataframe\">\n",
       "  <thead>\n",
       "    <tr style=\"text-align: right;\">\n",
       "      <th></th>\n",
       "      <th>CLIENTNUM</th>\n",
       "      <th>Customer_Age</th>\n",
       "      <th>Gender</th>\n",
       "      <th>Dependent_count</th>\n",
       "      <th>Education_Level</th>\n",
       "      <th>Marital_Status</th>\n",
       "      <th>Income_Category</th>\n",
       "      <th>Card_Category</th>\n",
       "      <th>Months_on_book</th>\n",
       "      <th>Total_Relationship_Count</th>\n",
       "      <th>Months_Inactive_12_mon</th>\n",
       "      <th>Contacts_Count_12_mon</th>\n",
       "      <th>Credit_Limit</th>\n",
       "      <th>Total_Revolving_Bal</th>\n",
       "      <th>Avg_Open_To_Buy</th>\n",
       "      <th>Total_Amt_Chng_Q4_Q1</th>\n",
       "      <th>Total_Trans_Amt</th>\n",
       "      <th>Total_Trans_Ct</th>\n",
       "      <th>Total_Ct_Chng_Q4_Q1</th>\n",
       "      <th>Avg_Utilization_Ratio</th>\n",
       "    </tr>\n",
       "  </thead>\n",
       "  <tbody>\n",
       "    <tr>\n",
       "      <th>0</th>\n",
       "      <td>768805383</td>\n",
       "      <td>45</td>\n",
       "      <td>M</td>\n",
       "      <td>3</td>\n",
       "      <td>High School</td>\n",
       "      <td>Married</td>\n",
       "      <td>$60K - $80K</td>\n",
       "      <td>Blue</td>\n",
       "      <td>39</td>\n",
       "      <td>5</td>\n",
       "      <td>1</td>\n",
       "      <td>3</td>\n",
       "      <td>12691.0</td>\n",
       "      <td>777</td>\n",
       "      <td>11914.0</td>\n",
       "      <td>1.335</td>\n",
       "      <td>1144</td>\n",
       "      <td>42</td>\n",
       "      <td>1.625</td>\n",
       "      <td>0.061</td>\n",
       "    </tr>\n",
       "    <tr>\n",
       "      <th>1</th>\n",
       "      <td>818770008</td>\n",
       "      <td>49</td>\n",
       "      <td>F</td>\n",
       "      <td>5</td>\n",
       "      <td>Graduate</td>\n",
       "      <td>Single</td>\n",
       "      <td>Less than $40K</td>\n",
       "      <td>Blue</td>\n",
       "      <td>44</td>\n",
       "      <td>6</td>\n",
       "      <td>1</td>\n",
       "      <td>2</td>\n",
       "      <td>8256.0</td>\n",
       "      <td>864</td>\n",
       "      <td>7392.0</td>\n",
       "      <td>1.541</td>\n",
       "      <td>1291</td>\n",
       "      <td>33</td>\n",
       "      <td>3.714</td>\n",
       "      <td>0.105</td>\n",
       "    </tr>\n",
       "    <tr>\n",
       "      <th>2</th>\n",
       "      <td>713982108</td>\n",
       "      <td>51</td>\n",
       "      <td>M</td>\n",
       "      <td>3</td>\n",
       "      <td>Graduate</td>\n",
       "      <td>Married</td>\n",
       "      <td>$80K - $120K</td>\n",
       "      <td>Blue</td>\n",
       "      <td>36</td>\n",
       "      <td>4</td>\n",
       "      <td>1</td>\n",
       "      <td>0</td>\n",
       "      <td>3418.0</td>\n",
       "      <td>0</td>\n",
       "      <td>3418.0</td>\n",
       "      <td>2.594</td>\n",
       "      <td>1887</td>\n",
       "      <td>20</td>\n",
       "      <td>2.333</td>\n",
       "      <td>0.000</td>\n",
       "    </tr>\n",
       "    <tr>\n",
       "      <th>3</th>\n",
       "      <td>769911858</td>\n",
       "      <td>40</td>\n",
       "      <td>F</td>\n",
       "      <td>4</td>\n",
       "      <td>High School</td>\n",
       "      <td>Unknown</td>\n",
       "      <td>Less than $40K</td>\n",
       "      <td>Blue</td>\n",
       "      <td>34</td>\n",
       "      <td>3</td>\n",
       "      <td>4</td>\n",
       "      <td>1</td>\n",
       "      <td>3313.0</td>\n",
       "      <td>2517</td>\n",
       "      <td>796.0</td>\n",
       "      <td>1.405</td>\n",
       "      <td>1171</td>\n",
       "      <td>20</td>\n",
       "      <td>2.333</td>\n",
       "      <td>0.760</td>\n",
       "    </tr>\n",
       "    <tr>\n",
       "      <th>4</th>\n",
       "      <td>709106358</td>\n",
       "      <td>40</td>\n",
       "      <td>M</td>\n",
       "      <td>3</td>\n",
       "      <td>Uneducated</td>\n",
       "      <td>Married</td>\n",
       "      <td>$60K - $80K</td>\n",
       "      <td>Blue</td>\n",
       "      <td>21</td>\n",
       "      <td>5</td>\n",
       "      <td>1</td>\n",
       "      <td>0</td>\n",
       "      <td>4716.0</td>\n",
       "      <td>0</td>\n",
       "      <td>4716.0</td>\n",
       "      <td>2.175</td>\n",
       "      <td>816</td>\n",
       "      <td>28</td>\n",
       "      <td>2.500</td>\n",
       "      <td>0.000</td>\n",
       "    </tr>\n",
       "  </tbody>\n",
       "</table>\n",
       "</div>"
      ],
      "text/plain": [
       "   CLIENTNUM  Customer_Age Gender  Dependent_count Education_Level   \n",
       "0  768805383            45      M                3     High School  \\\n",
       "1  818770008            49      F                5        Graduate   \n",
       "2  713982108            51      M                3        Graduate   \n",
       "3  769911858            40      F                4     High School   \n",
       "4  709106358            40      M                3      Uneducated   \n",
       "\n",
       "  Marital_Status Income_Category Card_Category  Months_on_book   \n",
       "0        Married     $60K - $80K          Blue              39  \\\n",
       "1         Single  Less than $40K          Blue              44   \n",
       "2        Married    $80K - $120K          Blue              36   \n",
       "3        Unknown  Less than $40K          Blue              34   \n",
       "4        Married     $60K - $80K          Blue              21   \n",
       "\n",
       "   Total_Relationship_Count  Months_Inactive_12_mon  Contacts_Count_12_mon   \n",
       "0                         5                       1                      3  \\\n",
       "1                         6                       1                      2   \n",
       "2                         4                       1                      0   \n",
       "3                         3                       4                      1   \n",
       "4                         5                       1                      0   \n",
       "\n",
       "   Credit_Limit  Total_Revolving_Bal  Avg_Open_To_Buy  Total_Amt_Chng_Q4_Q1   \n",
       "0       12691.0                  777          11914.0                 1.335  \\\n",
       "1        8256.0                  864           7392.0                 1.541   \n",
       "2        3418.0                    0           3418.0                 2.594   \n",
       "3        3313.0                 2517            796.0                 1.405   \n",
       "4        4716.0                    0           4716.0                 2.175   \n",
       "\n",
       "   Total_Trans_Amt  Total_Trans_Ct  Total_Ct_Chng_Q4_Q1  Avg_Utilization_Ratio  \n",
       "0             1144              42                1.625                  0.061  \n",
       "1             1291              33                3.714                  0.105  \n",
       "2             1887              20                2.333                  0.000  \n",
       "3             1171              20                2.333                  0.760  \n",
       "4              816              28                2.500                  0.000  "
      ]
     },
     "execution_count": 31,
     "metadata": {},
     "output_type": "execute_result"
    }
   ],
   "source": [
    "X = df.drop(['Attrition_Flag'], axis=1)\n",
    "X.head()"
   ]
  },
  {
   "cell_type": "code",
   "execution_count": 32,
   "metadata": {},
   "outputs": [
    {
     "data": {
      "text/plain": [
       "0    Existing Customer\n",
       "1    Existing Customer\n",
       "2    Existing Customer\n",
       "3    Existing Customer\n",
       "4    Existing Customer\n",
       "Name: Attrition_Flag, dtype: object"
      ]
     },
     "execution_count": 32,
     "metadata": {},
     "output_type": "execute_result"
    }
   ],
   "source": [
    "y = df.Attrition_Flag\n",
    "y.head()"
   ]
  },
  {
   "cell_type": "markdown",
   "metadata": {},
   "source": [
    "Next, we drop CLIENTNUM since it's not going to be a helpful predictor."
   ]
  },
  {
   "cell_type": "code",
   "execution_count": 33,
   "metadata": {},
   "outputs": [
    {
     "data": {
      "text/html": [
       "<div>\n",
       "<style scoped>\n",
       "    .dataframe tbody tr th:only-of-type {\n",
       "        vertical-align: middle;\n",
       "    }\n",
       "\n",
       "    .dataframe tbody tr th {\n",
       "        vertical-align: top;\n",
       "    }\n",
       "\n",
       "    .dataframe thead th {\n",
       "        text-align: right;\n",
       "    }\n",
       "</style>\n",
       "<table border=\"1\" class=\"dataframe\">\n",
       "  <thead>\n",
       "    <tr style=\"text-align: right;\">\n",
       "      <th></th>\n",
       "      <th>Customer_Age</th>\n",
       "      <th>Gender</th>\n",
       "      <th>Dependent_count</th>\n",
       "      <th>Education_Level</th>\n",
       "      <th>Marital_Status</th>\n",
       "      <th>Income_Category</th>\n",
       "      <th>Card_Category</th>\n",
       "      <th>Months_on_book</th>\n",
       "      <th>Total_Relationship_Count</th>\n",
       "      <th>Months_Inactive_12_mon</th>\n",
       "      <th>Contacts_Count_12_mon</th>\n",
       "      <th>Credit_Limit</th>\n",
       "      <th>Total_Revolving_Bal</th>\n",
       "      <th>Avg_Open_To_Buy</th>\n",
       "      <th>Total_Amt_Chng_Q4_Q1</th>\n",
       "      <th>Total_Trans_Amt</th>\n",
       "      <th>Total_Trans_Ct</th>\n",
       "      <th>Total_Ct_Chng_Q4_Q1</th>\n",
       "      <th>Avg_Utilization_Ratio</th>\n",
       "    </tr>\n",
       "  </thead>\n",
       "  <tbody>\n",
       "    <tr>\n",
       "      <th>0</th>\n",
       "      <td>45</td>\n",
       "      <td>M</td>\n",
       "      <td>3</td>\n",
       "      <td>High School</td>\n",
       "      <td>Married</td>\n",
       "      <td>$60K - $80K</td>\n",
       "      <td>Blue</td>\n",
       "      <td>39</td>\n",
       "      <td>5</td>\n",
       "      <td>1</td>\n",
       "      <td>3</td>\n",
       "      <td>12691.0</td>\n",
       "      <td>777</td>\n",
       "      <td>11914.0</td>\n",
       "      <td>1.335</td>\n",
       "      <td>1144</td>\n",
       "      <td>42</td>\n",
       "      <td>1.625</td>\n",
       "      <td>0.061</td>\n",
       "    </tr>\n",
       "    <tr>\n",
       "      <th>1</th>\n",
       "      <td>49</td>\n",
       "      <td>F</td>\n",
       "      <td>5</td>\n",
       "      <td>Graduate</td>\n",
       "      <td>Single</td>\n",
       "      <td>Less than $40K</td>\n",
       "      <td>Blue</td>\n",
       "      <td>44</td>\n",
       "      <td>6</td>\n",
       "      <td>1</td>\n",
       "      <td>2</td>\n",
       "      <td>8256.0</td>\n",
       "      <td>864</td>\n",
       "      <td>7392.0</td>\n",
       "      <td>1.541</td>\n",
       "      <td>1291</td>\n",
       "      <td>33</td>\n",
       "      <td>3.714</td>\n",
       "      <td>0.105</td>\n",
       "    </tr>\n",
       "    <tr>\n",
       "      <th>2</th>\n",
       "      <td>51</td>\n",
       "      <td>M</td>\n",
       "      <td>3</td>\n",
       "      <td>Graduate</td>\n",
       "      <td>Married</td>\n",
       "      <td>$80K - $120K</td>\n",
       "      <td>Blue</td>\n",
       "      <td>36</td>\n",
       "      <td>4</td>\n",
       "      <td>1</td>\n",
       "      <td>0</td>\n",
       "      <td>3418.0</td>\n",
       "      <td>0</td>\n",
       "      <td>3418.0</td>\n",
       "      <td>2.594</td>\n",
       "      <td>1887</td>\n",
       "      <td>20</td>\n",
       "      <td>2.333</td>\n",
       "      <td>0.000</td>\n",
       "    </tr>\n",
       "    <tr>\n",
       "      <th>3</th>\n",
       "      <td>40</td>\n",
       "      <td>F</td>\n",
       "      <td>4</td>\n",
       "      <td>High School</td>\n",
       "      <td>Unknown</td>\n",
       "      <td>Less than $40K</td>\n",
       "      <td>Blue</td>\n",
       "      <td>34</td>\n",
       "      <td>3</td>\n",
       "      <td>4</td>\n",
       "      <td>1</td>\n",
       "      <td>3313.0</td>\n",
       "      <td>2517</td>\n",
       "      <td>796.0</td>\n",
       "      <td>1.405</td>\n",
       "      <td>1171</td>\n",
       "      <td>20</td>\n",
       "      <td>2.333</td>\n",
       "      <td>0.760</td>\n",
       "    </tr>\n",
       "    <tr>\n",
       "      <th>4</th>\n",
       "      <td>40</td>\n",
       "      <td>M</td>\n",
       "      <td>3</td>\n",
       "      <td>Uneducated</td>\n",
       "      <td>Married</td>\n",
       "      <td>$60K - $80K</td>\n",
       "      <td>Blue</td>\n",
       "      <td>21</td>\n",
       "      <td>5</td>\n",
       "      <td>1</td>\n",
       "      <td>0</td>\n",
       "      <td>4716.0</td>\n",
       "      <td>0</td>\n",
       "      <td>4716.0</td>\n",
       "      <td>2.175</td>\n",
       "      <td>816</td>\n",
       "      <td>28</td>\n",
       "      <td>2.500</td>\n",
       "      <td>0.000</td>\n",
       "    </tr>\n",
       "  </tbody>\n",
       "</table>\n",
       "</div>"
      ],
      "text/plain": [
       "   Customer_Age Gender  Dependent_count Education_Level Marital_Status   \n",
       "0            45      M                3     High School        Married  \\\n",
       "1            49      F                5        Graduate         Single   \n",
       "2            51      M                3        Graduate        Married   \n",
       "3            40      F                4     High School        Unknown   \n",
       "4            40      M                3      Uneducated        Married   \n",
       "\n",
       "  Income_Category Card_Category  Months_on_book  Total_Relationship_Count   \n",
       "0     $60K - $80K          Blue              39                         5  \\\n",
       "1  Less than $40K          Blue              44                         6   \n",
       "2    $80K - $120K          Blue              36                         4   \n",
       "3  Less than $40K          Blue              34                         3   \n",
       "4     $60K - $80K          Blue              21                         5   \n",
       "\n",
       "   Months_Inactive_12_mon  Contacts_Count_12_mon  Credit_Limit   \n",
       "0                       1                      3       12691.0  \\\n",
       "1                       1                      2        8256.0   \n",
       "2                       1                      0        3418.0   \n",
       "3                       4                      1        3313.0   \n",
       "4                       1                      0        4716.0   \n",
       "\n",
       "   Total_Revolving_Bal  Avg_Open_To_Buy  Total_Amt_Chng_Q4_Q1   \n",
       "0                  777          11914.0                 1.335  \\\n",
       "1                  864           7392.0                 1.541   \n",
       "2                    0           3418.0                 2.594   \n",
       "3                 2517            796.0                 1.405   \n",
       "4                    0           4716.0                 2.175   \n",
       "\n",
       "   Total_Trans_Amt  Total_Trans_Ct  Total_Ct_Chng_Q4_Q1  Avg_Utilization_Ratio  \n",
       "0             1144              42                1.625                  0.061  \n",
       "1             1291              33                3.714                  0.105  \n",
       "2             1887              20                2.333                  0.000  \n",
       "3             1171              20                2.333                  0.760  \n",
       "4              816              28                2.500                  0.000  "
      ]
     },
     "execution_count": 33,
     "metadata": {},
     "output_type": "execute_result"
    }
   ],
   "source": [
    "X = X.drop(['CLIENTNUM'], axis=1)\n",
    "X.head()"
   ]
  },
  {
   "cell_type": "markdown",
   "metadata": {},
   "source": [
    "Next we need to transform the categorical attributes into dummy variables for both the independent (X) and dependent (y) sets. According to below, the following variables are categorical:\n",
    "* Gender\n",
    "* Education_Level\n",
    "* Marital_Status\n",
    "* Income_Category\n",
    "* Card_Category\n",
    "* Attrition_Flag (Target Variable)"
   ]
  },
  {
   "cell_type": "code",
   "execution_count": 34,
   "metadata": {},
   "outputs": [],
   "source": [
    "X = pd.get_dummies(X,['Gender', 'Education_Level', 'Maritial_Status', 'Income_Category', 'Card_Category'])"
   ]
  },
  {
   "cell_type": "code",
   "execution_count": 35,
   "metadata": {},
   "outputs": [
    {
     "data": {
      "text/html": [
       "<div>\n",
       "<style scoped>\n",
       "    .dataframe tbody tr th:only-of-type {\n",
       "        vertical-align: middle;\n",
       "    }\n",
       "\n",
       "    .dataframe tbody tr th {\n",
       "        vertical-align: top;\n",
       "    }\n",
       "\n",
       "    .dataframe thead th {\n",
       "        text-align: right;\n",
       "    }\n",
       "</style>\n",
       "<table border=\"1\" class=\"dataframe\">\n",
       "  <thead>\n",
       "    <tr style=\"text-align: right;\">\n",
       "      <th></th>\n",
       "      <th>Customer_Age</th>\n",
       "      <th>Dependent_count</th>\n",
       "      <th>Months_on_book</th>\n",
       "      <th>Total_Relationship_Count</th>\n",
       "      <th>Months_Inactive_12_mon</th>\n",
       "      <th>Contacts_Count_12_mon</th>\n",
       "      <th>Credit_Limit</th>\n",
       "      <th>Total_Revolving_Bal</th>\n",
       "      <th>Avg_Open_To_Buy</th>\n",
       "      <th>Total_Amt_Chng_Q4_Q1</th>\n",
       "      <th>...</th>\n",
       "      <th>Income_Category_$120K +</th>\n",
       "      <th>Income_Category_$40K - $60K</th>\n",
       "      <th>Income_Category_$60K - $80K</th>\n",
       "      <th>Income_Category_$80K - $120K</th>\n",
       "      <th>Income_Category_Less than $40K</th>\n",
       "      <th>Income_Category_Unknown</th>\n",
       "      <th>Card_Category_Blue</th>\n",
       "      <th>Card_Category_Gold</th>\n",
       "      <th>Card_Category_Platinum</th>\n",
       "      <th>Card_Category_Silver</th>\n",
       "    </tr>\n",
       "  </thead>\n",
       "  <tbody>\n",
       "    <tr>\n",
       "      <th>0</th>\n",
       "      <td>45</td>\n",
       "      <td>3</td>\n",
       "      <td>39</td>\n",
       "      <td>5</td>\n",
       "      <td>1</td>\n",
       "      <td>3</td>\n",
       "      <td>12691.0</td>\n",
       "      <td>777</td>\n",
       "      <td>11914.0</td>\n",
       "      <td>1.335</td>\n",
       "      <td>...</td>\n",
       "      <td>False</td>\n",
       "      <td>False</td>\n",
       "      <td>True</td>\n",
       "      <td>False</td>\n",
       "      <td>False</td>\n",
       "      <td>False</td>\n",
       "      <td>True</td>\n",
       "      <td>False</td>\n",
       "      <td>False</td>\n",
       "      <td>False</td>\n",
       "    </tr>\n",
       "    <tr>\n",
       "      <th>1</th>\n",
       "      <td>49</td>\n",
       "      <td>5</td>\n",
       "      <td>44</td>\n",
       "      <td>6</td>\n",
       "      <td>1</td>\n",
       "      <td>2</td>\n",
       "      <td>8256.0</td>\n",
       "      <td>864</td>\n",
       "      <td>7392.0</td>\n",
       "      <td>1.541</td>\n",
       "      <td>...</td>\n",
       "      <td>False</td>\n",
       "      <td>False</td>\n",
       "      <td>False</td>\n",
       "      <td>False</td>\n",
       "      <td>True</td>\n",
       "      <td>False</td>\n",
       "      <td>True</td>\n",
       "      <td>False</td>\n",
       "      <td>False</td>\n",
       "      <td>False</td>\n",
       "    </tr>\n",
       "    <tr>\n",
       "      <th>2</th>\n",
       "      <td>51</td>\n",
       "      <td>3</td>\n",
       "      <td>36</td>\n",
       "      <td>4</td>\n",
       "      <td>1</td>\n",
       "      <td>0</td>\n",
       "      <td>3418.0</td>\n",
       "      <td>0</td>\n",
       "      <td>3418.0</td>\n",
       "      <td>2.594</td>\n",
       "      <td>...</td>\n",
       "      <td>False</td>\n",
       "      <td>False</td>\n",
       "      <td>False</td>\n",
       "      <td>True</td>\n",
       "      <td>False</td>\n",
       "      <td>False</td>\n",
       "      <td>True</td>\n",
       "      <td>False</td>\n",
       "      <td>False</td>\n",
       "      <td>False</td>\n",
       "    </tr>\n",
       "    <tr>\n",
       "      <th>3</th>\n",
       "      <td>40</td>\n",
       "      <td>4</td>\n",
       "      <td>34</td>\n",
       "      <td>3</td>\n",
       "      <td>4</td>\n",
       "      <td>1</td>\n",
       "      <td>3313.0</td>\n",
       "      <td>2517</td>\n",
       "      <td>796.0</td>\n",
       "      <td>1.405</td>\n",
       "      <td>...</td>\n",
       "      <td>False</td>\n",
       "      <td>False</td>\n",
       "      <td>False</td>\n",
       "      <td>False</td>\n",
       "      <td>True</td>\n",
       "      <td>False</td>\n",
       "      <td>True</td>\n",
       "      <td>False</td>\n",
       "      <td>False</td>\n",
       "      <td>False</td>\n",
       "    </tr>\n",
       "    <tr>\n",
       "      <th>4</th>\n",
       "      <td>40</td>\n",
       "      <td>3</td>\n",
       "      <td>21</td>\n",
       "      <td>5</td>\n",
       "      <td>1</td>\n",
       "      <td>0</td>\n",
       "      <td>4716.0</td>\n",
       "      <td>0</td>\n",
       "      <td>4716.0</td>\n",
       "      <td>2.175</td>\n",
       "      <td>...</td>\n",
       "      <td>False</td>\n",
       "      <td>False</td>\n",
       "      <td>True</td>\n",
       "      <td>False</td>\n",
       "      <td>False</td>\n",
       "      <td>False</td>\n",
       "      <td>True</td>\n",
       "      <td>False</td>\n",
       "      <td>False</td>\n",
       "      <td>False</td>\n",
       "    </tr>\n",
       "  </tbody>\n",
       "</table>\n",
       "<p>5 rows × 37 columns</p>\n",
       "</div>"
      ],
      "text/plain": [
       "   Customer_Age  Dependent_count  Months_on_book  Total_Relationship_Count   \n",
       "0            45                3              39                         5  \\\n",
       "1            49                5              44                         6   \n",
       "2            51                3              36                         4   \n",
       "3            40                4              34                         3   \n",
       "4            40                3              21                         5   \n",
       "\n",
       "   Months_Inactive_12_mon  Contacts_Count_12_mon  Credit_Limit   \n",
       "0                       1                      3       12691.0  \\\n",
       "1                       1                      2        8256.0   \n",
       "2                       1                      0        3418.0   \n",
       "3                       4                      1        3313.0   \n",
       "4                       1                      0        4716.0   \n",
       "\n",
       "   Total_Revolving_Bal  Avg_Open_To_Buy  Total_Amt_Chng_Q4_Q1  ...   \n",
       "0                  777          11914.0                 1.335  ...  \\\n",
       "1                  864           7392.0                 1.541  ...   \n",
       "2                    0           3418.0                 2.594  ...   \n",
       "3                 2517            796.0                 1.405  ...   \n",
       "4                    0           4716.0                 2.175  ...   \n",
       "\n",
       "   Income_Category_$120K +  Income_Category_$40K - $60K   \n",
       "0                    False                        False  \\\n",
       "1                    False                        False   \n",
       "2                    False                        False   \n",
       "3                    False                        False   \n",
       "4                    False                        False   \n",
       "\n",
       "   Income_Category_$60K - $80K  Income_Category_$80K - $120K   \n",
       "0                         True                         False  \\\n",
       "1                        False                         False   \n",
       "2                        False                          True   \n",
       "3                        False                         False   \n",
       "4                         True                         False   \n",
       "\n",
       "   Income_Category_Less than $40K  Income_Category_Unknown   \n",
       "0                           False                    False  \\\n",
       "1                            True                    False   \n",
       "2                           False                    False   \n",
       "3                            True                    False   \n",
       "4                           False                    False   \n",
       "\n",
       "   Card_Category_Blue  Card_Category_Gold  Card_Category_Platinum   \n",
       "0                True               False                   False  \\\n",
       "1                True               False                   False   \n",
       "2                True               False                   False   \n",
       "3                True               False                   False   \n",
       "4                True               False                   False   \n",
       "\n",
       "   Card_Category_Silver  \n",
       "0                 False  \n",
       "1                 False  \n",
       "2                 False  \n",
       "3                 False  \n",
       "4                 False  \n",
       "\n",
       "[5 rows x 37 columns]"
      ]
     },
     "execution_count": 35,
     "metadata": {},
     "output_type": "execute_result"
    }
   ],
   "source": [
    "X.head()"
   ]
  },
  {
   "cell_type": "markdown",
   "metadata": {},
   "source": [
    "To transform the Y, we can use the LabelBinarizer since a customer is either an existing customer or an attrited customer."
   ]
  },
  {
   "cell_type": "code",
   "execution_count": 36,
   "metadata": {},
   "outputs": [
    {
     "data": {
      "text/plain": [
       "1    8500\n",
       "0    1627\n",
       "Name: count, dtype: int64"
      ]
     },
     "execution_count": 36,
     "metadata": {},
     "output_type": "execute_result"
    }
   ],
   "source": [
    "lb = LabelBinarizer()\n",
    "y = lb.fit_transform(y).ravel()\n",
    "y = pd.Series(y)\n",
    "y.value_counts()"
   ]
  },
  {
   "cell_type": "markdown",
   "metadata": {},
   "source": [
    "Next, we should scale the dependent (X) data to follow the same scale."
   ]
  },
  {
   "cell_type": "code",
   "execution_count": 37,
   "metadata": {},
   "outputs": [],
   "source": [
    "# Scale the Data\n",
    "ss = preprocessing.StandardScaler()\n",
    "X_ss= ss.fit_transform(X)"
   ]
  },
  {
   "cell_type": "markdown",
   "metadata": {},
   "source": [
    "## Preparing the Train, Test, & Validation Data\n",
    "Because there are only 16% of attrited customers, it was important to make sure our train and test sets contain the same ratio of attrited customers in comparison to the original data set.  Therefore, we decided to use the stratified k."
   ]
  },
  {
   "cell_type": "code",
   "execution_count": 38,
   "metadata": {},
   "outputs": [
    {
     "name": "stdout",
     "output_type": "stream",
     "text": [
      "Length of training set:6076\n",
      "Length of testing set:2026\n",
      "Length of validation set:2025\n"
     ]
    }
   ],
   "source": [
    "# split the datasets into training and test data, make sure we use stratified method\n",
    "# also make sure we use the scaled version of the X data\n",
    "X_train, X_test, y_train, y_test = train_test_split(X_ss, y, stratify=y, test_size=0.40, random_state=RANDOM_STATE)\n",
    "X_val, X_test, y_val, y_test = train_test_split(X_test, y_test, test_size=0.50, random_state=RANDOM_STATE)\n",
    "\n",
    "print(\"Length of training set:\" +str(len(X_train)))\n",
    "print(\"Length of testing set:\" + str(len(X_test)))\n",
    "print(\"Length of validation set:\"+ str(len(X_val)))"
   ]
  },
  {
   "cell_type": "code",
   "execution_count": 39,
   "metadata": {},
   "outputs": [
    {
     "name": "stdout",
     "output_type": "stream",
     "text": [
      "The percentage breakdown of existing and attrited customers for the train set is: \n",
      "1    0.839368\n",
      "0    0.160632\n",
      "Name: proportion, dtype: float64\n",
      "The percentage breakdown of existing and attrited customers for the test set is: \n",
      "1    0.838105\n",
      "0    0.161895\n",
      "Name: proportion, dtype: float64\n",
      "The percentage breakdown of existing and attrited customers for the valuation set is: \n",
      "1    0.840494\n",
      "0    0.159506\n",
      "Name: proportion, dtype: float64\n"
     ]
    }
   ],
   "source": [
    "print(\"The percentage breakdown of existing and attrited customers for the train set is: \\n\"+str(y_train.value_counts(normalize=True)))\n",
    "print(\"The percentage breakdown of existing and attrited customers for the test set is: \\n\"+str(y_test.value_counts(normalize=True)))\n",
    "print(\"The percentage breakdown of existing and attrited customers for the valuation set is: \\n\"+str(y_val.value_counts(normalize=True)))"
   ]
  },
  {
   "cell_type": "markdown",
   "metadata": {},
   "source": [
    "## Utility Functions to Store Model Results\n",
    "Below is a dataframe that will store all of the model results for comparison later on."
   ]
  },
  {
   "cell_type": "code",
   "execution_count": 40,
   "metadata": {},
   "outputs": [],
   "source": [
    "df_model_summary_cat = pd.DataFrame(\n",
    "   {\n",
    "      \"Model\": [],\n",
    "      \"Recall\": [],\n",
    "      \"Specificity\": [],\n",
    "      \"Precision\": [],\n",
    "      \"Balanced Accuracy\": [],\n",
    "      \"F1-Score\": []\n",
    "   }\n",
    ")\n",
    "\n",
    "\n",
    "# a function that stores a model name and scores for each model where the target variable is a category\n",
    "def add_score_cat(model, recall, specificity, precision, balanced_accuracy, f1_score):\n",
    "   df_model_summary_cat.loc[df_model_summary_cat.shape[0]] = [model, recall, specificity, precision, balanced_accuracy,\n",
    "                                                              f1_score]"
   ]
  },
  {
   "cell_type": "markdown",
   "metadata": {},
   "source": [
    "The percentage of attrited customers in the train, test, and validation data are roughly the same."
   ]
  },
  {
   "cell_type": "markdown",
   "metadata": {},
   "source": [
    "## Model Creation & Validation\n",
    "\n",
    "For each model, we used grid search to find the best parameters to use for the training data set. Then, we used the best parameters to predict churned customers from the train and validation data.  We printed the metrics and added it to the model summary data frame for comparison later on."
   ]
  },
  {
   "cell_type": "markdown",
   "metadata": {},
   "source": [
    "### Logistic Regression Classifier"
   ]
  },
  {
   "cell_type": "code",
   "execution_count": 41,
   "metadata": {},
   "outputs": [],
   "source": [
    "from sklearn.linear_model import LogisticRegression"
   ]
  },
  {
   "cell_type": "code",
   "execution_count": 42,
   "metadata": {},
   "outputs": [
    {
     "name": "stdout",
     "output_type": "stream",
     "text": [
      "Best C:  0.1\n",
      "Best Score:  0.9438263177865938\n"
     ]
    }
   ],
   "source": [
    "estimator = LogisticRegression(random_state=RANDOM_STATE)\n",
    "\n",
    "param_grid = {\n",
    "   'C': [0.0001, 0.001, 0.01, 0.03, 0.1, 0.3, 1, 2, 5, 10, 15, 20, 50, 100, 1000, 10000, 100000]\n",
    "}\n",
    "\n",
    "# Perform grid search using cross-validation\n",
    "grid_search = GridSearchCV(estimator, param_grid, cv=5, scoring='f1')  # Use 5-fold cross-validation\n",
    "grid_search.fit(X_train, y_train)  # Fit the grid search to training data\n",
    "\n",
    "# Get the best parameter values and corresponding score\n",
    "best_c = grid_search.best_params_['C']\n",
    "best_score = grid_search.best_score_\n",
    "\n",
    "print(\"Best C: \", best_c)\n",
    "print(\"Best Score: \", best_score)"
   ]
  },
  {
   "cell_type": "code",
   "execution_count": 43,
   "metadata": {},
   "outputs": [
    {
     "name": "stdout",
     "output_type": "stream",
     "text": [
      "Training Set:\n",
      "\n",
      "              precision    recall  f1-score   support\n",
      "\n",
      "           0       0.78      0.56      0.65       976\n",
      "           1       0.92      0.97      0.94      5100\n",
      "\n",
      "    accuracy                           0.90      6076\n",
      "   macro avg       0.85      0.77      0.80      6076\n",
      "weighted avg       0.90      0.90      0.90      6076\n",
      "\n",
      "[[ 546  430]\n",
      " [ 150 4950]]\n",
      "\n",
      "Validation Set:\n",
      "\n",
      "              precision    recall  f1-score   support\n",
      "\n",
      "           0       0.79      0.59      0.67       323\n",
      "           1       0.93      0.97      0.95      1702\n",
      "\n",
      "    accuracy                           0.91      2025\n",
      "   macro avg       0.86      0.78      0.81      2025\n",
      "weighted avg       0.90      0.91      0.90      2025\n",
      "\n",
      "[[ 189  134]\n",
      " [  49 1653]]\n",
      "Accuracy: 0.910\n",
      "Specificity: 0.585\n",
      "Recall: 0.971\n",
      "Precision: 0.925\n",
      "F1-Score: 0.948\n"
     ]
    }
   ],
   "source": [
    "# Use the best C for the model\n",
    "clf = LogisticRegression(random_state=RANDOM_STATE, C=0.1)\n",
    "clf.fit(X_train, y_train)\n",
    "y_train_pred = clf.predict(X_train)\n",
    "y_val_pred = clf.predict(X_val)\n",
    "\n",
    "# code to calculate accuracy scores and confusion matrices\n",
    "print(\"Training Set:\\n\")\n",
    "print(classification_report(y_train, y_train_pred))\n",
    "print(confusion_matrix(y_train, y_train_pred))\n",
    "\n",
    "print(\"\\nValidation Set:\\n\")\n",
    "print(classification_report(y_val, y_val_pred))\n",
    "matrix = confusion_matrix(y_val, y_val_pred)\n",
    "print(matrix)\n",
    "TN = matrix[0, 0]\n",
    "FP = matrix[0, 1]\n",
    "FN = matrix[1, 0]\n",
    "TP = matrix[1, 1]\n",
    "accuracy = accuracy_score(y_val, y_val_pred)\n",
    "specificity = (TN / (TN + FP))\n",
    "recall = recall_score(y_val, y_val_pred)\n",
    "precision = precision_score(y_val, y_val_pred)\n",
    "f1 = f1_score(y_val, y_val_pred)\n",
    "print('Accuracy: %.3f' % accuracy)\n",
    "print('Specificity: %.3f' % specificity)\n",
    "print('Recall: %.3f' % recall)\n",
    "print('Precision: %.3f' % precision)\n",
    "print('F1-Score: %.3f' % f1)\n",
    "\n",
    "add_score_cat(\"LogisticRegression\", recall, specificity, precision, accuracy, f1)"
   ]
  },
  {
   "cell_type": "markdown",
   "metadata": {},
   "source": [
    "### K-Nearest Neighbors"
   ]
  },
  {
   "cell_type": "code",
   "execution_count": 44,
   "metadata": {},
   "outputs": [],
   "source": [
    "from sklearn.neighbors import KNeighborsClassifier"
   ]
  },
  {
   "cell_type": "code",
   "execution_count": 45,
   "metadata": {},
   "outputs": [
    {
     "name": "stdout",
     "output_type": "stream",
     "text": [
      "Best C:  {'n_neighbors': 7, 'p': 1, 'weights': 'uniform'}\n",
      "Best Score:  0.9302228432913686\n"
     ]
    }
   ],
   "source": [
    "estimator = KNeighborsClassifier(n_neighbors = 1)\n",
    "\n",
    "param_grid = {\n",
    "   'n_neighbors': [1, 3, 5, 7, 9],  # Adjust the range of neighbors if needed\n",
    "   'weights': ['uniform', 'distance'],\n",
    "   'p': [1, 2]  # For Minkowski distance (p=1: Manhattan distance, p=2: Euclidean distance)\n",
    "}\n",
    "\n",
    "# Perform grid search using cross-validation\n",
    "grid_search = GridSearchCV(estimator, param_grid, cv=5, scoring='f1')  # Use 5-fold cross-validation\n",
    "grid_search.fit(X_train, y_train)  # Fit the grid search to training data\n",
    "\n",
    "# Get the best parameter values and corresponding score\n",
    "best_c = grid_search.best_params_\n",
    "best_score = grid_search.best_score_\n",
    "\n",
    "print(\"Best C: \", best_c)\n",
    "print(\"Best Score: \", best_score)"
   ]
  },
  {
   "cell_type": "code",
   "execution_count": 46,
   "metadata": {},
   "outputs": [
    {
     "name": "stdout",
     "output_type": "stream",
     "text": [
      "Training Set:\n",
      "\n",
      "              precision    recall  f1-score   support\n",
      "\n",
      "           0       0.89      0.42      0.58       976\n",
      "           1       0.90      0.99      0.94      5100\n",
      "\n",
      "    accuracy                           0.90      6076\n",
      "   macro avg       0.90      0.71      0.76      6076\n",
      "weighted avg       0.90      0.90      0.88      6076\n",
      "\n",
      "[[ 414  562]\n",
      " [  49 5051]]\n",
      "\n",
      "Validation Set:\n",
      "\n",
      "              precision    recall  f1-score   support\n",
      "\n",
      "           0       0.83      0.37      0.51       323\n",
      "           1       0.89      0.99      0.94      1702\n",
      "\n",
      "    accuracy                           0.89      2025\n",
      "   macro avg       0.86      0.68      0.73      2025\n",
      "weighted avg       0.88      0.89      0.87      2025\n",
      "\n",
      "[[ 120  203]\n",
      " [  24 1678]]\n",
      "Accuracy: 0.888\n",
      "Specificity: 0.372\n",
      "Recall: 0.986\n",
      "Precision: 0.892\n",
      "F1-Score: 0.937\n"
     ]
    }
   ],
   "source": [
    "clf = KNeighborsClassifier(n_neighbors=7, p=1, weights='uniform')\n",
    "clf.fit(X_train, y_train)\n",
    "y_train_pred = clf.predict(X_train)\n",
    "y_val_pred = clf.predict(X_val)\n",
    "\n",
    "# code to calculate accuracy scores and confusion matrices\n",
    "print(\"Training Set:\\n\")\n",
    "print(classification_report(y_train, y_train_pred))\n",
    "print(confusion_matrix(y_train, y_train_pred))\n",
    "\n",
    "print(\"\\nValidation Set:\\n\")\n",
    "print(classification_report(y_val, y_val_pred))\n",
    "matrix = confusion_matrix(y_val, y_val_pred)\n",
    "print(matrix)\n",
    "TN = matrix[0, 0]\n",
    "FP = matrix[0, 1]\n",
    "FN = matrix[1, 0]\n",
    "TP = matrix[1, 1]\n",
    "accuracy = accuracy_score(y_val, y_val_pred)\n",
    "specificity = (TN / (TN + FP))\n",
    "recall = recall_score(y_val, y_val_pred)\n",
    "precision = precision_score(y_val, y_val_pred)\n",
    "f1 = f1_score(y_val, y_val_pred)\n",
    "print('Accuracy: %.3f' % accuracy)\n",
    "print('Specificity: %.3f' % specificity)\n",
    "print('Recall: %.3f' % recall)\n",
    "print('Precision: %.3f' % precision)\n",
    "print('F1-Score: %.3f' % f1)\n",
    "\n",
    "add_score_cat(\"KNeighborsClassifier\", recall, specificity, precision, accuracy, f1)"
   ]
  },
  {
   "cell_type": "markdown",
   "metadata": {},
   "source": [
    "### Random Forest Classifier"
   ]
  },
  {
   "cell_type": "code",
   "execution_count": 47,
   "metadata": {},
   "outputs": [],
   "source": [
    "from sklearn.ensemble import RandomForestClassifier"
   ]
  },
  {
   "cell_type": "code",
   "execution_count": 48,
   "metadata": {},
   "outputs": [
    {
     "name": "stdout",
     "output_type": "stream",
     "text": [
      "Fitting 5 folds for each of 125 candidates, totalling 625 fits\n"
     ]
    },
    {
     "name": "stderr",
     "output_type": "stream",
     "text": [
      "C:\\Users\\isabe\\AppData\\Local\\Programs\\Python\\Python310\\lib\\site-packages\\sklearn\\model_selection\\_validation.py:378: FitFailedWarning:\n",
      "\n",
      "\n",
      "125 fits failed out of a total of 625.\n",
      "The score on these train-test partitions for these parameters will be set to nan.\n",
      "If these failures are not expected, you can try to debug them by setting error_score='raise'.\n",
      "\n",
      "Below are more details about the failures:\n",
      "--------------------------------------------------------------------------------\n",
      "125 fits failed with the following error:\n",
      "Traceback (most recent call last):\n",
      "  File \"C:\\Users\\isabe\\AppData\\Local\\Programs\\Python\\Python310\\lib\\site-packages\\sklearn\\model_selection\\_validation.py\", line 686, in _fit_and_score\n",
      "    estimator.fit(X_train, y_train, **fit_params)\n",
      "  File \"C:\\Users\\isabe\\AppData\\Local\\Programs\\Python\\Python310\\lib\\site-packages\\sklearn\\ensemble\\_forest.py\", line 340, in fit\n",
      "    self._validate_params()\n",
      "  File \"C:\\Users\\isabe\\AppData\\Local\\Programs\\Python\\Python310\\lib\\site-packages\\sklearn\\base.py\", line 600, in _validate_params\n",
      "    validate_parameter_constraints(\n",
      "  File \"C:\\Users\\isabe\\AppData\\Local\\Programs\\Python\\Python310\\lib\\site-packages\\sklearn\\utils\\_param_validation.py\", line 97, in validate_parameter_constraints\n",
      "    raise InvalidParameterError(\n",
      "sklearn.utils._param_validation.InvalidParameterError: The 'min_samples_split' parameter of RandomForestClassifier must be an int in the range [2, inf) or a float in the range (0.0, 1.0]. Got 1 instead.\n",
      "\n",
      "\n",
      "C:\\Users\\isabe\\AppData\\Local\\Programs\\Python\\Python310\\lib\\site-packages\\sklearn\\model_selection\\_search.py:952: UserWarning:\n",
      "\n",
      "One or more of the test scores are non-finite: [       nan        nan        nan        nan        nan 0.8433261\n",
      " 0.85082987 0.85009835 0.8483438  0.85159587 0.84031936 0.84835596\n",
      " 0.85008096 0.85200111 0.84977468 0.84467895 0.84314018 0.83452812\n",
      " 0.83991735 0.84792117 0.83592622 0.8402698  0.83881199 0.84115739\n",
      " 0.8456695         nan        nan        nan        nan        nan\n",
      " 0.87341506 0.87854126 0.87579386 0.8776212  0.87334349 0.87046634\n",
      " 0.87601687 0.86937113 0.87495383 0.87535122 0.86392126 0.86360944\n",
      " 0.86327531 0.8658368  0.87210869 0.86176794 0.8619437  0.86928618\n",
      " 0.86877859 0.8721644         nan        nan        nan        nan\n",
      "        nan 0.88178487 0.87822621 0.87442392 0.87786253 0.87561255\n",
      " 0.86767953 0.86582664 0.86735987 0.86887309 0.86987872 0.86672669\n",
      " 0.86905962 0.86710376 0.87121679 0.87448195 0.86008788 0.86622403\n",
      " 0.86252409 0.8704922  0.87037938        nan        nan        nan\n",
      "        nan        nan 0.88079493 0.87966664 0.87463739 0.87561779\n",
      " 0.87725167 0.86675193 0.86553252 0.86899637 0.87048696 0.87068828\n",
      " 0.86672407 0.87171915 0.86761659 0.87162896 0.87499477 0.86211131\n",
      " 0.86888355 0.86867008 0.87069089 0.87121156        nan        nan\n",
      "        nan        nan        nan 0.88079493 0.87966664 0.87463739\n",
      " 0.87561779 0.87725167 0.86675193 0.86553252 0.86899637 0.87048696\n",
      " 0.87068828 0.86672407 0.87171915 0.86761659 0.87162896 0.87499477\n",
      " 0.86211131 0.86888355 0.86867008 0.87069089 0.87121156]\n",
      "\n"
     ]
    },
    {
     "data": {
      "text/html": [
       "<style>#sk-container-id-1 {color: black;background-color: white;}#sk-container-id-1 pre{padding: 0;}#sk-container-id-1 div.sk-toggleable {background-color: white;}#sk-container-id-1 label.sk-toggleable__label {cursor: pointer;display: block;width: 100%;margin-bottom: 0;padding: 0.3em;box-sizing: border-box;text-align: center;}#sk-container-id-1 label.sk-toggleable__label-arrow:before {content: \"▸\";float: left;margin-right: 0.25em;color: #696969;}#sk-container-id-1 label.sk-toggleable__label-arrow:hover:before {color: black;}#sk-container-id-1 div.sk-estimator:hover label.sk-toggleable__label-arrow:before {color: black;}#sk-container-id-1 div.sk-toggleable__content {max-height: 0;max-width: 0;overflow: hidden;text-align: left;background-color: #f0f8ff;}#sk-container-id-1 div.sk-toggleable__content pre {margin: 0.2em;color: black;border-radius: 0.25em;background-color: #f0f8ff;}#sk-container-id-1 input.sk-toggleable__control:checked~div.sk-toggleable__content {max-height: 200px;max-width: 100%;overflow: auto;}#sk-container-id-1 input.sk-toggleable__control:checked~label.sk-toggleable__label-arrow:before {content: \"▾\";}#sk-container-id-1 div.sk-estimator input.sk-toggleable__control:checked~label.sk-toggleable__label {background-color: #d4ebff;}#sk-container-id-1 div.sk-label input.sk-toggleable__control:checked~label.sk-toggleable__label {background-color: #d4ebff;}#sk-container-id-1 input.sk-hidden--visually {border: 0;clip: rect(1px 1px 1px 1px);clip: rect(1px, 1px, 1px, 1px);height: 1px;margin: -1px;overflow: hidden;padding: 0;position: absolute;width: 1px;}#sk-container-id-1 div.sk-estimator {font-family: monospace;background-color: #f0f8ff;border: 1px dotted black;border-radius: 0.25em;box-sizing: border-box;margin-bottom: 0.5em;}#sk-container-id-1 div.sk-estimator:hover {background-color: #d4ebff;}#sk-container-id-1 div.sk-parallel-item::after {content: \"\";width: 100%;border-bottom: 1px solid gray;flex-grow: 1;}#sk-container-id-1 div.sk-label:hover label.sk-toggleable__label {background-color: #d4ebff;}#sk-container-id-1 div.sk-serial::before {content: \"\";position: absolute;border-left: 1px solid gray;box-sizing: border-box;top: 0;bottom: 0;left: 50%;z-index: 0;}#sk-container-id-1 div.sk-serial {display: flex;flex-direction: column;align-items: center;background-color: white;padding-right: 0.2em;padding-left: 0.2em;position: relative;}#sk-container-id-1 div.sk-item {position: relative;z-index: 1;}#sk-container-id-1 div.sk-parallel {display: flex;align-items: stretch;justify-content: center;background-color: white;position: relative;}#sk-container-id-1 div.sk-item::before, #sk-container-id-1 div.sk-parallel-item::before {content: \"\";position: absolute;border-left: 1px solid gray;box-sizing: border-box;top: 0;bottom: 0;left: 50%;z-index: -1;}#sk-container-id-1 div.sk-parallel-item {display: flex;flex-direction: column;z-index: 1;position: relative;background-color: white;}#sk-container-id-1 div.sk-parallel-item:first-child::after {align-self: flex-end;width: 50%;}#sk-container-id-1 div.sk-parallel-item:last-child::after {align-self: flex-start;width: 50%;}#sk-container-id-1 div.sk-parallel-item:only-child::after {width: 0;}#sk-container-id-1 div.sk-dashed-wrapped {border: 1px dashed gray;margin: 0 0.4em 0.5em 0.4em;box-sizing: border-box;padding-bottom: 0.4em;background-color: white;}#sk-container-id-1 div.sk-label label {font-family: monospace;font-weight: bold;display: inline-block;line-height: 1.2em;}#sk-container-id-1 div.sk-label-container {text-align: center;}#sk-container-id-1 div.sk-container {/* jupyter's `normalize.less` sets `[hidden] { display: none; }` but bootstrap.min.css set `[hidden] { display: none !important; }` so we also need the `!important` here to be able to override the default hidden behavior on the sphinx rendered scikit-learn.org. See: https://github.com/scikit-learn/scikit-learn/issues/21755 */display: inline-block !important;position: relative;}#sk-container-id-1 div.sk-text-repr-fallback {display: none;}</style><div id=\"sk-container-id-1\" class=\"sk-top-container\"><div class=\"sk-text-repr-fallback\"><pre>RandomForestClassifier(max_depth=20, n_estimators=10, random_state=42)</pre><b>In a Jupyter environment, please rerun this cell to show the HTML representation or trust the notebook. <br />On GitHub, the HTML representation is unable to render, please try loading this page with nbviewer.org.</b></div><div class=\"sk-container\" hidden><div class=\"sk-item\"><div class=\"sk-estimator sk-toggleable\"><input class=\"sk-toggleable__control sk-hidden--visually\" id=\"sk-estimator-id-1\" type=\"checkbox\" checked><label for=\"sk-estimator-id-1\" class=\"sk-toggleable__label sk-toggleable__label-arrow\">RandomForestClassifier</label><div class=\"sk-toggleable__content\"><pre>RandomForestClassifier(max_depth=20, n_estimators=10, random_state=42)</pre></div></div></div></div></div>"
      ],
      "text/plain": [
       "RandomForestClassifier(max_depth=20, n_estimators=10, random_state=42)"
      ]
     },
     "execution_count": 48,
     "metadata": {},
     "output_type": "execute_result"
    }
   ],
   "source": [
    "minlist = [1,2,3,4,5]\n",
    "maxlist = [10,15,20,25,30]\n",
    "elist = [10,20,30,40,50]\n",
    "\n",
    "rn = RandomForestClassifier(random_state=RANDOM_STATE)\n",
    "par = {'min_samples_split': minlist, 'max_depth': maxlist, 'n_estimators': elist, 'random_state': [42]}\n",
    "grid = GridSearchCV(estimator = rn, param_grid = par, cv = 5, verbose = 1, n_jobs = -1, scoring = 'balanced_accuracy')\n",
    "grid.fit(X_train, y_train)\n",
    "grid.best_params_\n",
    "grid.best_estimator_"
   ]
  },
  {
   "cell_type": "code",
   "execution_count": 49,
   "metadata": {},
   "outputs": [
    {
     "name": "stdout",
     "output_type": "stream",
     "text": [
      "Training Set:\n",
      "\n",
      "              precision    recall  f1-score   support\n",
      "\n",
      "           0       0.99      0.99      0.99       976\n",
      "           1       1.00      1.00      1.00      5100\n",
      "\n",
      "    accuracy                           1.00      6076\n",
      "   macro avg       1.00      0.99      0.99      6076\n",
      "weighted avg       1.00      1.00      1.00      6076\n",
      "\n",
      "[[ 964   12]\n",
      " [   6 5094]]\n",
      "\n",
      "Validation Set:\n",
      "\n",
      "              precision    recall  f1-score   support\n",
      "\n",
      "           0       0.88      0.79      0.83       323\n",
      "           1       0.96      0.98      0.97      1702\n",
      "\n",
      "    accuracy                           0.95      2025\n",
      "   macro avg       0.92      0.88      0.90      2025\n",
      "weighted avg       0.95      0.95      0.95      2025\n",
      "\n",
      "[[ 254   69]\n",
      " [  36 1666]]\n",
      "Accuracy: 0.948\n",
      "Specificity: 0.786\n",
      "Recall: 0.979\n",
      "Precision: 0.960\n",
      "F1-Score: 0.969\n"
     ]
    }
   ],
   "source": [
    "clf_rf = RandomForestClassifier(max_depth=20, n_estimators=10, random_state=42)\n",
    "clf_rf.fit(X_train, y_train)\n",
    "y_train_pred = clf_rf.predict(X_train)\n",
    "y_val_pred = clf_rf.predict(X_val)\n",
    "\n",
    "# code to calculate accuracy scores and confusion matrices\n",
    "print(\"Training Set:\\n\")\n",
    "print(classification_report(y_train, y_train_pred))\n",
    "print(confusion_matrix(y_train, y_train_pred))\n",
    "\n",
    "print(\"\\nValidation Set:\\n\")\n",
    "print(classification_report(y_val, y_val_pred))\n",
    "matrix = confusion_matrix(y_val, y_val_pred)\n",
    "print(matrix)\n",
    "TN = matrix[0, 0]\n",
    "FP = matrix[0, 1]\n",
    "FN = matrix[1, 0]\n",
    "TP = matrix[1, 1]\n",
    "accuracy = accuracy_score(y_val, y_val_pred)\n",
    "specificity = (TN / (TN + FP))\n",
    "recall = recall_score(y_val, y_val_pred)\n",
    "precision = precision_score(y_val, y_val_pred)\n",
    "f1 = f1_score(y_val, y_val_pred)\n",
    "print('Accuracy: %.3f' % accuracy)\n",
    "print('Specificity: %.3f' % specificity)\n",
    "print('Recall: %.3f' % recall)\n",
    "print('Precision: %.3f' % precision)\n",
    "print('F1-Score: %.3f' % f1)\n",
    "\n",
    "add_score_cat(\"RandomForestClassifier\", recall, specificity, precision, accuracy, f1)"
   ]
  },
  {
   "cell_type": "markdown",
   "metadata": {},
   "source": [
    "### Decision Tree"
   ]
  },
  {
   "cell_type": "code",
   "execution_count": 50,
   "metadata": {},
   "outputs": [],
   "source": [
    "from sklearn.tree import DecisionTreeClassifier"
   ]
  },
  {
   "cell_type": "code",
   "execution_count": 51,
   "metadata": {},
   "outputs": [
    {
     "name": "stdout",
     "output_type": "stream",
     "text": [
      "Fitting 5 folds for each of 25 candidates, totalling 125 fits\n"
     ]
    },
    {
     "name": "stderr",
     "output_type": "stream",
     "text": [
      "C:\\Users\\isabe\\AppData\\Local\\Programs\\Python\\Python310\\lib\\site-packages\\sklearn\\model_selection\\_validation.py:378: FitFailedWarning:\n",
      "\n",
      "\n",
      "25 fits failed out of a total of 125.\n",
      "The score on these train-test partitions for these parameters will be set to nan.\n",
      "If these failures are not expected, you can try to debug them by setting error_score='raise'.\n",
      "\n",
      "Below are more details about the failures:\n",
      "--------------------------------------------------------------------------------\n",
      "25 fits failed with the following error:\n",
      "Traceback (most recent call last):\n",
      "  File \"C:\\Users\\isabe\\AppData\\Local\\Programs\\Python\\Python310\\lib\\site-packages\\sklearn\\model_selection\\_validation.py\", line 686, in _fit_and_score\n",
      "    estimator.fit(X_train, y_train, **fit_params)\n",
      "  File \"C:\\Users\\isabe\\AppData\\Local\\Programs\\Python\\Python310\\lib\\site-packages\\sklearn\\tree\\_classes.py\", line 889, in fit\n",
      "    super().fit(\n",
      "  File \"C:\\Users\\isabe\\AppData\\Local\\Programs\\Python\\Python310\\lib\\site-packages\\sklearn\\tree\\_classes.py\", line 177, in fit\n",
      "    self._validate_params()\n",
      "  File \"C:\\Users\\isabe\\AppData\\Local\\Programs\\Python\\Python310\\lib\\site-packages\\sklearn\\base.py\", line 600, in _validate_params\n",
      "    validate_parameter_constraints(\n",
      "  File \"C:\\Users\\isabe\\AppData\\Local\\Programs\\Python\\Python310\\lib\\site-packages\\sklearn\\utils\\_param_validation.py\", line 97, in validate_parameter_constraints\n",
      "    raise InvalidParameterError(\n",
      "sklearn.utils._param_validation.InvalidParameterError: The 'min_samples_split' parameter of DecisionTreeClassifier must be an int in the range [2, inf) or a float in the range (0.0, 1.0]. Got 1 instead.\n",
      "\n",
      "\n",
      "C:\\Users\\isabe\\AppData\\Local\\Programs\\Python\\Python310\\lib\\site-packages\\sklearn\\model_selection\\_search.py:952: UserWarning:\n",
      "\n",
      "One or more of the test scores are non-finite: [       nan 0.9645098  0.96294118 0.96352941 0.96196078        nan\n",
      " 0.96392157 0.96254902 0.96078431 0.95843137        nan 0.95921569\n",
      " 0.96137255 0.96039216 0.95960784        nan 0.95921569 0.96137255\n",
      " 0.96039216 0.95960784        nan 0.95921569 0.96137255 0.96039216\n",
      " 0.95960784]\n",
      "\n"
     ]
    },
    {
     "data": {
      "text/html": [
       "<style>#sk-container-id-2 {color: black;background-color: white;}#sk-container-id-2 pre{padding: 0;}#sk-container-id-2 div.sk-toggleable {background-color: white;}#sk-container-id-2 label.sk-toggleable__label {cursor: pointer;display: block;width: 100%;margin-bottom: 0;padding: 0.3em;box-sizing: border-box;text-align: center;}#sk-container-id-2 label.sk-toggleable__label-arrow:before {content: \"▸\";float: left;margin-right: 0.25em;color: #696969;}#sk-container-id-2 label.sk-toggleable__label-arrow:hover:before {color: black;}#sk-container-id-2 div.sk-estimator:hover label.sk-toggleable__label-arrow:before {color: black;}#sk-container-id-2 div.sk-toggleable__content {max-height: 0;max-width: 0;overflow: hidden;text-align: left;background-color: #f0f8ff;}#sk-container-id-2 div.sk-toggleable__content pre {margin: 0.2em;color: black;border-radius: 0.25em;background-color: #f0f8ff;}#sk-container-id-2 input.sk-toggleable__control:checked~div.sk-toggleable__content {max-height: 200px;max-width: 100%;overflow: auto;}#sk-container-id-2 input.sk-toggleable__control:checked~label.sk-toggleable__label-arrow:before {content: \"▾\";}#sk-container-id-2 div.sk-estimator input.sk-toggleable__control:checked~label.sk-toggleable__label {background-color: #d4ebff;}#sk-container-id-2 div.sk-label input.sk-toggleable__control:checked~label.sk-toggleable__label {background-color: #d4ebff;}#sk-container-id-2 input.sk-hidden--visually {border: 0;clip: rect(1px 1px 1px 1px);clip: rect(1px, 1px, 1px, 1px);height: 1px;margin: -1px;overflow: hidden;padding: 0;position: absolute;width: 1px;}#sk-container-id-2 div.sk-estimator {font-family: monospace;background-color: #f0f8ff;border: 1px dotted black;border-radius: 0.25em;box-sizing: border-box;margin-bottom: 0.5em;}#sk-container-id-2 div.sk-estimator:hover {background-color: #d4ebff;}#sk-container-id-2 div.sk-parallel-item::after {content: \"\";width: 100%;border-bottom: 1px solid gray;flex-grow: 1;}#sk-container-id-2 div.sk-label:hover label.sk-toggleable__label {background-color: #d4ebff;}#sk-container-id-2 div.sk-serial::before {content: \"\";position: absolute;border-left: 1px solid gray;box-sizing: border-box;top: 0;bottom: 0;left: 50%;z-index: 0;}#sk-container-id-2 div.sk-serial {display: flex;flex-direction: column;align-items: center;background-color: white;padding-right: 0.2em;padding-left: 0.2em;position: relative;}#sk-container-id-2 div.sk-item {position: relative;z-index: 1;}#sk-container-id-2 div.sk-parallel {display: flex;align-items: stretch;justify-content: center;background-color: white;position: relative;}#sk-container-id-2 div.sk-item::before, #sk-container-id-2 div.sk-parallel-item::before {content: \"\";position: absolute;border-left: 1px solid gray;box-sizing: border-box;top: 0;bottom: 0;left: 50%;z-index: -1;}#sk-container-id-2 div.sk-parallel-item {display: flex;flex-direction: column;z-index: 1;position: relative;background-color: white;}#sk-container-id-2 div.sk-parallel-item:first-child::after {align-self: flex-end;width: 50%;}#sk-container-id-2 div.sk-parallel-item:last-child::after {align-self: flex-start;width: 50%;}#sk-container-id-2 div.sk-parallel-item:only-child::after {width: 0;}#sk-container-id-2 div.sk-dashed-wrapped {border: 1px dashed gray;margin: 0 0.4em 0.5em 0.4em;box-sizing: border-box;padding-bottom: 0.4em;background-color: white;}#sk-container-id-2 div.sk-label label {font-family: monospace;font-weight: bold;display: inline-block;line-height: 1.2em;}#sk-container-id-2 div.sk-label-container {text-align: center;}#sk-container-id-2 div.sk-container {/* jupyter's `normalize.less` sets `[hidden] { display: none; }` but bootstrap.min.css set `[hidden] { display: none !important; }` so we also need the `!important` here to be able to override the default hidden behavior on the sphinx rendered scikit-learn.org. See: https://github.com/scikit-learn/scikit-learn/issues/21755 */display: inline-block !important;position: relative;}#sk-container-id-2 div.sk-text-repr-fallback {display: none;}</style><div id=\"sk-container-id-2\" class=\"sk-top-container\"><div class=\"sk-text-repr-fallback\"><pre>DecisionTreeClassifier(max_depth=10, random_state=42)</pre><b>In a Jupyter environment, please rerun this cell to show the HTML representation or trust the notebook. <br />On GitHub, the HTML representation is unable to render, please try loading this page with nbviewer.org.</b></div><div class=\"sk-container\" hidden><div class=\"sk-item\"><div class=\"sk-estimator sk-toggleable\"><input class=\"sk-toggleable__control sk-hidden--visually\" id=\"sk-estimator-id-2\" type=\"checkbox\" checked><label for=\"sk-estimator-id-2\" class=\"sk-toggleable__label sk-toggleable__label-arrow\">DecisionTreeClassifier</label><div class=\"sk-toggleable__content\"><pre>DecisionTreeClassifier(max_depth=10, random_state=42)</pre></div></div></div></div></div>"
      ],
      "text/plain": [
       "DecisionTreeClassifier(max_depth=10, random_state=42)"
      ]
     },
     "execution_count": 51,
     "metadata": {},
     "output_type": "execute_result"
    }
   ],
   "source": [
    "minlist = [1,2,3,4,5]\n",
    "maxlist = [10,15,20,25,30]\n",
    "elist = [10,20,30,40,50]\n",
    "llist = [1,2,3,4,5]\n",
    "\n",
    "dec = DecisionTreeClassifier()\n",
    "pardec = {'min_samples_split': minlist, 'max_depth': maxlist, 'random_state': [42]}\n",
    "griddec= GridSearchCV(estimator=dec, param_grid=pardec, scoring=\"recall\", cv= 5, verbose =1, n_jobs=-1)\n",
    "griddec.fit(X_train, y_train)\n",
    "griddec.best_params_\n",
    "griddec.best_estimator_"
   ]
  },
  {
   "cell_type": "code",
   "execution_count": 52,
   "metadata": {},
   "outputs": [
    {
     "name": "stdout",
     "output_type": "stream",
     "text": [
      "Training Set:\n",
      "\n",
      "              precision    recall  f1-score   support\n",
      "\n",
      "           0       0.97      0.95      0.96       976\n",
      "           1       0.99      0.99      0.99      5100\n",
      "\n",
      "    accuracy                           0.99      6076\n",
      "   macro avg       0.98      0.97      0.98      6076\n",
      "weighted avg       0.99      0.99      0.99      6076\n",
      "\n",
      "[[ 928   48]\n",
      " [  31 5069]]\n",
      "\n",
      "Validation Set:\n",
      "\n",
      "              precision    recall  f1-score   support\n",
      "\n",
      "           0       0.83      0.81      0.82       323\n",
      "           1       0.96      0.97      0.97      1702\n",
      "\n",
      "    accuracy                           0.94      2025\n",
      "   macro avg       0.90      0.89      0.89      2025\n",
      "weighted avg       0.94      0.94      0.94      2025\n",
      "\n",
      "[[ 262   61]\n",
      " [  55 1647]]\n",
      "Accuracy: 0.943\n",
      "Specificity: 0.811\n",
      "Recall: 0.968\n",
      "Precision: 0.964\n",
      "F1-Score: 0.966\n"
     ]
    }
   ],
   "source": [
    "clf_dc = DecisionTreeClassifier(max_depth=10, random_state=42)\n",
    "clf_dc.fit(X_train, y_train)\n",
    "y_train_pred = clf_dc.predict(X_train)\n",
    "y_val_pred = clf_dc.predict(X_val)\n",
    "\n",
    "# code to calculate accuracy scores and confusion matrices\n",
    "print(\"Training Set:\\n\")\n",
    "print(classification_report(y_train, y_train_pred))\n",
    "print(confusion_matrix(y_train, y_train_pred))\n",
    "\n",
    "print(\"\\nValidation Set:\\n\")\n",
    "print(classification_report(y_val, y_val_pred))\n",
    "matrix = confusion_matrix(y_val, y_val_pred)\n",
    "print(matrix)\n",
    "TN = matrix[0, 0]\n",
    "FP = matrix[0, 1]\n",
    "FN = matrix[1, 0]\n",
    "TP = matrix[1, 1]\n",
    "accuracy = accuracy_score(y_val, y_val_pred)\n",
    "specificity = (TN / (TN + FP))\n",
    "recall = recall_score(y_val, y_val_pred)\n",
    "precision = precision_score(y_val, y_val_pred)\n",
    "f1 = f1_score(y_val, y_val_pred)\n",
    "print('Accuracy: %.3f' % accuracy)\n",
    "print('Specificity: %.3f' % specificity)\n",
    "print('Recall: %.3f' % recall)\n",
    "print('Precision: %.3f' % precision)\n",
    "print('F1-Score: %.3f' % f1)\n",
    "\n",
    "add_score_cat(\"DecisionTreeClassifier\", recall, specificity, precision, accuracy, f1)"
   ]
  },
  {
   "cell_type": "markdown",
   "metadata": {},
   "source": [
    "### Gradient Boost"
   ]
  },
  {
   "cell_type": "code",
   "execution_count": 53,
   "metadata": {},
   "outputs": [],
   "source": [
    "from sklearn.ensemble import GradientBoostingClassifier"
   ]
  },
  {
   "cell_type": "code",
   "execution_count": null,
   "metadata": {},
   "outputs": [],
   "source": [
    "### Hyperparameter tuning for min_samples_split, max_depth, and n_estimators\n",
    "# create a dictionary of possible parameters to hypertune\n",
    "param_grid = {\n",
    "    'learning_rate': [0.01, 0.05, 0.10, 0.25, 0.50, .75, .90, 1],\n",
    "    'n_estimators': [100, 150, 200,250, 300, 350]\n",
    "}\n",
    "\n",
    "clf_gb = GradientBoostingClassifier(random_state=RANDOM_STATE)\n",
    "# Perform grid search using cross-validation\n",
    "grid_search = GridSearchCV(clf_gb, param_grid, scoring='f1', cv=5)  # Use 5-fold cross-validation\n",
    "grid_search.fit(X_train, y_train)  # Fit the grid search to training data\n",
    "\n",
    "# Get the best parameter values and corresponding score\n",
    "best_learning_rate = grid_search.best_params_['learning_rate']\n",
    "best_n_estimators = grid_search.best_params_['n_estimators']\n",
    "best_score = grid_search.best_score_\n",
    "\n",
    "print(\"Best Learning Rate: \", best_learning_rate)\n",
    "print(\"Best N Estimators: \", best_n_estimators)\n",
    "print(\"Best Score: \", best_score)"
   ]
  },
  {
   "cell_type": "code",
   "execution_count": 56,
   "metadata": {},
   "outputs": [
    {
     "name": "stdout",
     "output_type": "stream",
     "text": [
      "Training Set:\n",
      "\n",
      "              precision    recall  f1-score   support\n",
      "\n",
      "           0       0.99      0.97      0.98       976\n",
      "           1       0.99      1.00      1.00      5100\n",
      "\n",
      "    accuracy                           0.99      6076\n",
      "   macro avg       0.99      0.98      0.99      6076\n",
      "weighted avg       0.99      0.99      0.99      6076\n",
      "\n",
      "[[ 944   32]\n",
      " [  12 5088]]\n",
      "\n",
      "Validation Set:\n",
      "\n",
      "              precision    recall  f1-score   support\n",
      "\n",
      "           0       0.94      0.89      0.91       323\n",
      "           1       0.98      0.99      0.98      1702\n",
      "\n",
      "    accuracy                           0.97      2025\n",
      "   macro avg       0.96      0.94      0.95      2025\n",
      "weighted avg       0.97      0.97      0.97      2025\n",
      "\n",
      "[[ 286   37]\n",
      " [  19 1683]]\n",
      "Accuracy: 0.972\n",
      "Specificity: 0.885\n",
      "Recall: 0.989\n",
      "Precision: 0.978\n",
      "F1-Score: 0.984\n"
     ]
    }
   ],
   "source": [
    "# Use the best learning rate and estimators\n",
    "clf_gb = GradientBoostingClassifier(random_state=RANDOM_STATE, learning_rate=0.1, n_estimators=300)\n",
    "clf_gb.fit(X_train, y_train)\n",
    "y_train_pred = clf_gb.predict(X_train)\n",
    "y_val_pred = clf_gb.predict(X_val)\n",
    "\n",
    "# code to calculate accuracy scores and confusion matrices\n",
    "print(\"Training Set:\\n\")\n",
    "print(classification_report(y_train, y_train_pred))\n",
    "print(confusion_matrix(y_train, y_train_pred))\n",
    "\n",
    "print(\"\\nValidation Set:\\n\")\n",
    "print(classification_report(y_val, y_val_pred))\n",
    "matrix = confusion_matrix(y_val, y_val_pred)\n",
    "print(matrix)\n",
    "TN = matrix[0, 0]\n",
    "FP = matrix[0, 1]\n",
    "FN = matrix[1, 0]\n",
    "TP = matrix[1, 1]\n",
    "accuracy = accuracy_score(y_val, y_val_pred)\n",
    "specificity = (TN / (TN + FP))\n",
    "recall = recall_score(y_val, y_val_pred)\n",
    "precision = precision_score(y_val, y_val_pred)\n",
    "f1 = f1_score(y_val, y_val_pred)\n",
    "print('Accuracy: %.3f' % accuracy)\n",
    "print('Specificity: %.3f' % specificity)\n",
    "print('Recall: %.3f' % recall)\n",
    "print('Precision: %.3f' % precision)\n",
    "print('F1-Score: %.3f' % f1)\n",
    "\n",
    "add_score_cat(\"GradientBoostingClassifier\", recall, specificity, precision, accuracy, f1)"
   ]
  },
  {
   "cell_type": "markdown",
   "metadata": {},
   "source": [
    "### Ada Boost"
   ]
  },
  {
   "cell_type": "code",
   "execution_count": 57,
   "metadata": {},
   "outputs": [],
   "source": [
    "from sklearn.ensemble import AdaBoostClassifier"
   ]
  },
  {
   "cell_type": "code",
   "execution_count": null,
   "metadata": {},
   "outputs": [],
   "source": [
    "### Hyperparameter tuning for min_samples_split, max_depth, and n_estimators\n",
    "# create a dictionary of possible parameters to hypertune\n",
    "param_grid = {\n",
    "    'learning_rate': [0.01, 0.05, 0.10, 0.25, 0.50, .75, .90, 1],\n",
    "    'n_estimators': [100, 150, 200,250, 300, 350]\n",
    "}\n",
    "\n",
    "clf_ada = AdaBoostClassifier(random_state=RANDOM_STATE)\n",
    "\n",
    "# Perform grid search using cross-validation\n",
    "grid_search = GridSearchCV(clf_ada, param_grid, scoring='f1', cv=5)  # Use 5-fold cross-validation\n",
    "grid_search.fit(X_train, y_train)  # Fit the grid search to training data\n",
    "\n",
    "# Get the best parameter values and corresponding score\n",
    "best_learning_rate = grid_search.best_params_['learning_rate']\n",
    "best_n_estimators = grid_search.best_params_['n_estimators']\n",
    "best_score = grid_search.best_score_\n",
    "\n",
    "print(\"Best Learning Rate: \", best_learning_rate)\n",
    "print(\"Best N Estimators: \", best_n_estimators)\n",
    "print(\"Best Score: \", best_score)"
   ]
  },
  {
   "cell_type": "code",
   "execution_count": 59,
   "metadata": {},
   "outputs": [
    {
     "name": "stdout",
     "output_type": "stream",
     "text": [
      "Training Set:\n",
      "\n",
      "              precision    recall  f1-score   support\n",
      "\n",
      "           0       0.93      0.87      0.90       976\n",
      "           1       0.98      0.99      0.98      5100\n",
      "\n",
      "    accuracy                           0.97      6076\n",
      "   macro avg       0.95      0.93      0.94      6076\n",
      "weighted avg       0.97      0.97      0.97      6076\n",
      "\n",
      "[[ 848  128]\n",
      " [  68 5032]]\n",
      "\n",
      "Validation Set:\n",
      "\n",
      "              precision    recall  f1-score   support\n",
      "\n",
      "           0       0.91      0.84      0.87       323\n",
      "           1       0.97      0.98      0.98      1702\n",
      "\n",
      "    accuracy                           0.96      2025\n",
      "   macro avg       0.94      0.91      0.92      2025\n",
      "weighted avg       0.96      0.96      0.96      2025\n",
      "\n",
      "[[ 271   52]\n",
      " [  28 1674]]\n",
      "Accuracy: 0.960\n",
      "Specificity: 0.839\n",
      "Recall: 0.984\n",
      "Precision: 0.970\n",
      "F1-Score: 0.977\n"
     ]
    }
   ],
   "source": [
    "# Use the best learning rate and estimators\n",
    "clf_ada = AdaBoostClassifier(random_state=RANDOM_STATE, learning_rate=0.25, n_estimators=350)\n",
    "clf_ada.fit(X_train, y_train)\n",
    "y_train_pred = clf_ada.predict(X_train)\n",
    "y_val_pred = clf_ada.predict(X_val)\n",
    "\n",
    "# code to calculate accuracy scores and confusion matrices\n",
    "print(\"Training Set:\\n\")\n",
    "print(classification_report(y_train, y_train_pred))\n",
    "print(confusion_matrix(y_train, y_train_pred))\n",
    "\n",
    "print(\"\\nValidation Set:\\n\")\n",
    "print(classification_report(y_val, y_val_pred))\n",
    "matrix = confusion_matrix(y_val, y_val_pred)\n",
    "print(matrix)\n",
    "TN = matrix[0, 0]\n",
    "FP = matrix[0, 1]\n",
    "FN = matrix[1, 0]\n",
    "TP = matrix[1, 1]\n",
    "accuracy = accuracy_score(y_val, y_val_pred)\n",
    "specificity = (TN / (TN + FP))\n",
    "recall = recall_score(y_val, y_val_pred)\n",
    "precision = precision_score(y_val, y_val_pred)\n",
    "f1 = f1_score(y_val, y_val_pred)\n",
    "print('Accuracy: %.3f' % accuracy)\n",
    "print('Specificity: %.3f' % specificity)\n",
    "print('Recall: %.3f' % recall)\n",
    "print('Precision: %.3f' % precision)\n",
    "print('F1-Score: %.3f' % f1)\n",
    "\n",
    "add_score_cat(\"AdaBoostClassifier\", recall, specificity, precision, accuracy, f1)"
   ]
  },
  {
   "cell_type": "markdown",
   "metadata": {},
   "source": [
    "## Comparison of the Models\n"
   ]
  },
  {
   "cell_type": "code",
   "execution_count": 60,
   "metadata": {},
   "outputs": [
    {
     "data": {
      "text/html": [
       "<div>\n",
       "<style scoped>\n",
       "    .dataframe tbody tr th:only-of-type {\n",
       "        vertical-align: middle;\n",
       "    }\n",
       "\n",
       "    .dataframe tbody tr th {\n",
       "        vertical-align: top;\n",
       "    }\n",
       "\n",
       "    .dataframe thead th {\n",
       "        text-align: right;\n",
       "    }\n",
       "</style>\n",
       "<table border=\"1\" class=\"dataframe\">\n",
       "  <thead>\n",
       "    <tr style=\"text-align: right;\">\n",
       "      <th></th>\n",
       "      <th>Model</th>\n",
       "      <th>Recall</th>\n",
       "      <th>Specificity</th>\n",
       "      <th>Precision</th>\n",
       "      <th>Balanced Accuracy</th>\n",
       "      <th>F1-Score</th>\n",
       "    </tr>\n",
       "  </thead>\n",
       "  <tbody>\n",
       "    <tr>\n",
       "      <th>0</th>\n",
       "      <td>LogisticRegression</td>\n",
       "      <td>0.971210</td>\n",
       "      <td>0.585139</td>\n",
       "      <td>0.925014</td>\n",
       "      <td>0.909630</td>\n",
       "      <td>0.947549</td>\n",
       "    </tr>\n",
       "    <tr>\n",
       "      <th>1</th>\n",
       "      <td>KNeighborsClassifier</td>\n",
       "      <td>0.985899</td>\n",
       "      <td>0.371517</td>\n",
       "      <td>0.892079</td>\n",
       "      <td>0.887901</td>\n",
       "      <td>0.936645</td>\n",
       "    </tr>\n",
       "    <tr>\n",
       "      <th>2</th>\n",
       "      <td>RandomForestClassifier</td>\n",
       "      <td>0.978848</td>\n",
       "      <td>0.786378</td>\n",
       "      <td>0.960231</td>\n",
       "      <td>0.948148</td>\n",
       "      <td>0.969450</td>\n",
       "    </tr>\n",
       "    <tr>\n",
       "      <th>3</th>\n",
       "      <td>DecisionTreeClassifier</td>\n",
       "      <td>0.967685</td>\n",
       "      <td>0.811146</td>\n",
       "      <td>0.964286</td>\n",
       "      <td>0.942716</td>\n",
       "      <td>0.965982</td>\n",
       "    </tr>\n",
       "    <tr>\n",
       "      <th>4</th>\n",
       "      <td>GradientBoostingClassifier</td>\n",
       "      <td>0.988837</td>\n",
       "      <td>0.885449</td>\n",
       "      <td>0.978488</td>\n",
       "      <td>0.972346</td>\n",
       "      <td>0.983635</td>\n",
       "    </tr>\n",
       "    <tr>\n",
       "      <th>5</th>\n",
       "      <td>AdaBoostClassifier</td>\n",
       "      <td>0.983549</td>\n",
       "      <td>0.839009</td>\n",
       "      <td>0.969873</td>\n",
       "      <td>0.960494</td>\n",
       "      <td>0.976663</td>\n",
       "    </tr>\n",
       "  </tbody>\n",
       "</table>\n",
       "</div>"
      ],
      "text/plain": [
       "                        Model    Recall  Specificity  Precision   \n",
       "0          LogisticRegression  0.971210     0.585139   0.925014  \\\n",
       "1        KNeighborsClassifier  0.985899     0.371517   0.892079   \n",
       "2      RandomForestClassifier  0.978848     0.786378   0.960231   \n",
       "3      DecisionTreeClassifier  0.967685     0.811146   0.964286   \n",
       "4  GradientBoostingClassifier  0.988837     0.885449   0.978488   \n",
       "5          AdaBoostClassifier  0.983549     0.839009   0.969873   \n",
       "\n",
       "   Balanced Accuracy  F1-Score  \n",
       "0           0.909630  0.947549  \n",
       "1           0.887901  0.936645  \n",
       "2           0.948148  0.969450  \n",
       "3           0.942716  0.965982  \n",
       "4           0.972346  0.983635  \n",
       "5           0.960494  0.976663  "
      ]
     },
     "execution_count": 60,
     "metadata": {},
     "output_type": "execute_result"
    }
   ],
   "source": [
    "df_model_summary_cat"
   ]
  },
  {
   "cell_type": "markdown",
   "metadata": {},
   "source": [
    "#### When you compare all models, the Gradient Boosting Classifier achieved a most highest values which are recall score of 0.989, specificity score of 0.885, precision score of 0.978, accuracy of 0.972, and F-1 score of 0.984."
   ]
  },
  {
   "cell_type": "markdown",
   "metadata": {},
   "source": [
    "## Best Model\n",
    "\n",
    "Finally, selecting the best model from above, we apply it to the test set below."
   ]
  },
  {
   "cell_type": "code",
   "execution_count": 61,
   "metadata": {},
   "outputs": [
    {
     "name": "stdout",
     "output_type": "stream",
     "text": [
      "\n",
      "Test Set:\n",
      "\n",
      "              precision    recall  f1-score   support\n",
      "\n",
      "           0       0.93      0.88      0.90       328\n",
      "           1       0.98      0.99      0.98      1698\n",
      "\n",
      "    accuracy                           0.97      2026\n",
      "   macro avg       0.95      0.93      0.94      2026\n",
      "weighted avg       0.97      0.97      0.97      2026\n",
      "\n",
      "[[ 287   41]\n",
      " [  21 1677]]\n",
      "Accuracy: 0.969\n",
      "Specificity: 0.875\n",
      "Recall: 0.988\n",
      "Precision: 0.976\n",
      "F1-Score: 0.982\n"
     ]
    }
   ],
   "source": [
    "# So far it's GradientBoostingClassifier but it can be another model later on\n",
    "# Use the best learning rate and estimators\n",
    "clf_gb = GradientBoostingClassifier(random_state=RANDOM_STATE, learning_rate=0.1, n_estimators=300)\n",
    "clf_gb.fit(X_train, y_train)\n",
    "y_test_pred = clf_gb.predict(X_test)\n",
    "\n",
    "# code to calculate accuracy scores and confusion matrices\n",
    "\n",
    "print(\"\\nTest Set:\\n\")\n",
    "print(classification_report(y_test, y_test_pred))\n",
    "matrix = confusion_matrix(y_test, y_test_pred)\n",
    "print(matrix)\n",
    "TN = matrix[0, 0]\n",
    "FP = matrix[0, 1]\n",
    "FN = matrix[1, 0]\n",
    "TP = matrix[1, 1]\n",
    "accuracy = accuracy_score(y_test, y_test_pred)\n",
    "specificity = (TN / (TN + FP))\n",
    "recall = recall_score(y_test, y_test_pred)\n",
    "precision = precision_score(y_test, y_test_pred)\n",
    "f1 = f1_score(y_test, y_test_pred)\n",
    "print('Accuracy: %.3f' % accuracy)\n",
    "print('Specificity: %.3f' % specificity)\n",
    "print('Recall: %.3f' % recall)\n",
    "print('Precision: %.3f' % precision)\n",
    "print('F1-Score: %.3f' % f1)"
   ]
  },
  {
   "cell_type": "markdown",
   "metadata": {},
   "source": [
    "#### The Gradient Boosting Classifier demonstrates good performance on the test set, with high precision, recall, F-1 score, accuracy, and specificity. "
   ]
  },
  {
   "cell_type": "code",
   "execution_count": 65,
   "metadata": {},
   "outputs": [],
   "source": [
    "from sklearn.metrics import roc_curve, roc_auc_score"
   ]
  },
  {
   "cell_type": "code",
   "execution_count": 66,
   "metadata": {},
   "outputs": [
    {
     "data": {
      "image/png": "[encoded data removed]",
      "text/plain": [
       "<Figure size 1400x600 with 1 Axes>"
      ]
     },
     "metadata": {},
     "output_type": "display_data"
    }
   ],
   "source": [
    "fpr, tpr, thresholds =roc_curve(y_test, y_test_pred, pos_label=1)\n",
    "roc_auc=roc_auc_score(y_test, y_test_pred)\n",
    "plt.figure( figsize=(14,6))\n",
    "plt.plot(fpr, tpr, color='darkorange', label='ROC curve (AUC = %0.2f)' % roc_auc)\n",
    "plt.plot([0, 1], [0, 1], color='navy',linestyle='--')\n",
    "plt.xlim([0.0, 1.0])\n",
    "plt.ylim([0.0, 1.0])\n",
    "plt.xlabel('False Positive Rate')\n",
    "plt.ylabel('True Positive Rate')\n",
    "plt.title('ROC curve')\n",
    "plt.legend(loc=\"lower right\")\n",
    "plt.show()"
   ]
  }
 ],
 "metadata": {
  "kernelspec": {
   "display_name": "Python 3 (ipykernel)",
   "language": "python",
   "name": "python3"
  },
  "language_info": {
   "codemirror_mode": {
    "name": "ipython",
    "version": 3
   },
   "file_extension": ".py",
   "mimetype": "text/x-python",
   "name": "python",
   "nbconvert_exporter": "python",
   "pygments_lexer": "ipython3",
   "version": "3.11.5"
  }
 },
 "nbformat": 4,
 "nbformat_minor": 1
}
